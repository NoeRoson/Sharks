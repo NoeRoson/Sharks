{
 "cells": [
  {
   "cell_type": "markdown",
   "id": "decfd48f",
   "metadata": {},
   "source": [
    "## Limpieza de datos: \n",
    "\n",
    "Comenzamos importando las librerías necesarias y conociendo la información principal del dataframe."
   ]
  },
  {
   "cell_type": "code",
   "execution_count": 1,
   "id": "e6c13b4d",
   "metadata": {},
   "outputs": [],
   "source": [
    "import pandas as pd\n",
    "pd.set_option('display.max_columns', None)\n",
    "\n",
    "\n",
    "import numpy as np\n",
    "import re\n",
    "import warnings\n",
    "warnings.filterwarnings('ignore')\n",
    "\n",
    "\n",
    "import pylab as plt\n",
    "import seaborn as sns\n",
    "\n",
    "%matplotlib inline"
   ]
  },
  {
   "cell_type": "code",
   "execution_count": 2,
   "id": "a7b918d1",
   "metadata": {},
   "outputs": [
    {
     "data": {
      "text/plain": [
       "(25723, 24)"
      ]
     },
     "execution_count": 2,
     "metadata": {},
     "output_type": "execute_result"
    }
   ],
   "source": [
    "sharks_ori = pd.read_csv('../Data/attacks.csv', encoding='latin1')\n",
    "sharks = sharks_ori.copy()  #realizamos una copia para no perder el original\n",
    "sharks_ori.shape #para no perder de vista la dimensión original que debe mantener"
   ]
  },
  {
   "cell_type": "code",
   "execution_count": 3,
   "id": "a1fbd739",
   "metadata": {},
   "outputs": [
    {
     "name": "stdout",
     "output_type": "stream",
     "text": [
      "<class 'pandas.core.frame.DataFrame'>\n",
      "RangeIndex: 25723 entries, 0 to 25722\n",
      "Data columns (total 24 columns):\n",
      " #   Column                  Non-Null Count  Dtype  \n",
      "---  ------                  --------------  -----  \n",
      " 0   Case Number             8702 non-null   object \n",
      " 1   Date                    6302 non-null   object \n",
      " 2   Year                    6300 non-null   float64\n",
      " 3   Type                    6298 non-null   object \n",
      " 4   Country                 6252 non-null   object \n",
      " 5   Area                    5847 non-null   object \n",
      " 6   Location                5762 non-null   object \n",
      " 7   Activity                5758 non-null   object \n",
      " 8   Name                    6092 non-null   object \n",
      " 9   Sex                     5737 non-null   object \n",
      " 10  Age                     3471 non-null   object \n",
      " 11  Injury                  6274 non-null   object \n",
      " 12  Fatal (Y/N)             5763 non-null   object \n",
      " 13  Time                    2948 non-null   object \n",
      " 14  Species                 3464 non-null   object \n",
      " 15  Investigator or Source  6285 non-null   object \n",
      " 16  pdf                     6302 non-null   object \n",
      " 17  href formula            6301 non-null   object \n",
      " 18  href                    6302 non-null   object \n",
      " 19  Case Number.1           6302 non-null   object \n",
      " 20  Case Number.2           6302 non-null   object \n",
      " 21  original order          6309 non-null   float64\n",
      " 22  Unnamed: 22             1 non-null      object \n",
      " 23  Unnamed: 23             2 non-null      object \n",
      "dtypes: float64(2), object(22)\n",
      "memory usage: 22.8 MB\n"
     ]
    }
   ],
   "source": [
    "sharks.info(memory_usage='deep')"
   ]
  },
  {
   "cell_type": "markdown",
   "id": "26587d41",
   "metadata": {},
   "source": [
    "## Limpieza de nulos"
   ]
  },
  {
   "cell_type": "code",
   "execution_count": 4,
   "id": "ba772da0",
   "metadata": {},
   "outputs": [
    {
     "data": {
      "text/plain": [
       "Case Number               17021\n",
       "Date                      19421\n",
       "Year                      19423\n",
       "Type                      19425\n",
       "Country                   19471\n",
       "Area                      19876\n",
       "Location                  19961\n",
       "Activity                  19965\n",
       "Name                      19631\n",
       "Sex                       19986\n",
       "Age                       22252\n",
       "Injury                    19449\n",
       "Fatal (Y/N)               19960\n",
       "Time                      22775\n",
       "Species                   22259\n",
       "Investigator or Source    19438\n",
       "pdf                       19421\n",
       "href formula              19422\n",
       "href                      19421\n",
       "Case Number.1             19421\n",
       "Case Number.2             19421\n",
       "original order            19414\n",
       "Unnamed: 22               25722\n",
       "Unnamed: 23               25721\n",
       "dtype: int64"
      ]
     },
     "execution_count": 4,
     "metadata": {},
     "output_type": "execute_result"
    }
   ],
   "source": [
    "nan_cols = sharks.isna().sum()   # Comprobamos la cantidad de nulos por columna\n",
    "\n",
    "nan_cols[nan_cols>0]"
   ]
  },
  {
   "cell_type": "code",
   "execution_count": 5,
   "id": "c7c77ef8",
   "metadata": {},
   "outputs": [],
   "source": [
    "def check_nan(df: pd.DataFrame) -> None:        # Activamos la función de % de nulos\n",
    "    \n",
    "    nan_cols = df.isna().mean() * 100  \n",
    "    \n",
    "    nan_cols = nan_cols[nan_cols>0]\n",
    "    \n",
    "    display(f'N nan cols: {len(nan_cols)}')\n",
    "    display(nan_cols)\n",
    "    \n",
    "    \n",
    "    plt.figure(figsize=(10, 6))  \n",
    "\n",
    "    sns.heatmap(df.isna(),       \n",
    "                yticklabels=False,  \n",
    "                cmap='viridis',     \n",
    "                cbar=False           \n",
    "               )\n",
    "\n",
    "    plt.show();"
   ]
  },
  {
   "cell_type": "code",
   "execution_count": 6,
   "id": "96a7abef",
   "metadata": {},
   "outputs": [
    {
     "data": {
      "text/plain": [
       "'N nan cols: 24'"
      ]
     },
     "metadata": {},
     "output_type": "display_data"
    },
    {
     "data": {
      "text/plain": [
       "Case Number               66.170353\n",
       "Date                      75.500525\n",
       "Year                      75.508300\n",
       "Type                      75.516075\n",
       "Country                   75.694903\n",
       "Area                      77.269370\n",
       "Location                  77.599813\n",
       "Activity                  77.615364\n",
       "Name                      76.316915\n",
       "Sex                       77.697003\n",
       "Age                       86.506240\n",
       "Injury                    75.609377\n",
       "Fatal (Y/N)               77.595926\n",
       "Time                      88.539439\n",
       "Species                   86.533453\n",
       "Investigator or Source    75.566614\n",
       "pdf                       75.500525\n",
       "href formula              75.504412\n",
       "href                      75.500525\n",
       "Case Number.1             75.500525\n",
       "Case Number.2             75.500525\n",
       "original order            75.473312\n",
       "Unnamed: 22               99.996112\n",
       "Unnamed: 23               99.992225\n",
       "dtype: float64"
      ]
     },
     "metadata": {},
     "output_type": "display_data"
    },
    {
     "data": {
      "image/png": "[encoded data removed]",
      "text/plain": [
       "<Figure size 1000x600 with 1 Axes>"
      ]
     },
     "metadata": {},
     "output_type": "display_data"
    }
   ],
   "source": [
    "check_nan(sharks)"
   ]
  },
  {
   "cell_type": "code",
   "execution_count": 7,
   "id": "b5d7d0de",
   "metadata": {},
   "outputs": [
    {
     "data": {
      "text/plain": [
       "0        False\n",
       "1        False\n",
       "2        False\n",
       "3        False\n",
       "4        False\n",
       "         ...  \n",
       "25718     True\n",
       "25719     True\n",
       "25720     True\n",
       "25721     True\n",
       "25722    False\n",
       "Length: 25723, dtype: bool"
      ]
     },
     "execution_count": 7,
     "metadata": {},
     "output_type": "execute_result"
    }
   ],
   "source": [
    "filas_solonulos = sharks.isna().all(axis=1)  # aquí observamos las filas en las que todos sus datos son nulos\n",
    "filas_solonulos"
   ]
  },
  {
   "cell_type": "code",
   "execution_count": 8,
   "id": "806bd25e",
   "metadata": {},
   "outputs": [
    {
     "name": "stdout",
     "output_type": "stream",
     "text": [
      "(25723, 24)\n",
      "(8703, 24)\n"
     ]
    }
   ],
   "source": [
    "# ahora vamos a eliminar las filas en las que todos sus datos son nulos\n",
    "\n",
    "sharks.dropna(how = 'all', inplace = True)\n",
    "\n",
    "print(sharks_ori.shape)\n",
    "\n",
    "print(sharks.shape)   # hemos eliminado 17020 filas que solo contenían valores nulos"
   ]
  },
  {
   "cell_type": "code",
   "execution_count": 9,
   "id": "fb07f770",
   "metadata": {},
   "outputs": [
    {
     "data": {
      "text/plain": [
       "'N nan cols: 24'"
      ]
     },
     "metadata": {},
     "output_type": "display_data"
    },
    {
     "data": {
      "text/plain": [
       "Case Number                0.011490\n",
       "Date                      27.588188\n",
       "Year                      27.611169\n",
       "Type                      27.634149\n",
       "Country                   28.162703\n",
       "Area                      32.816270\n",
       "Location                  33.792945\n",
       "Activity                  33.838906\n",
       "Name                      30.001149\n",
       "Sex                       34.080202\n",
       "Age                       60.117201\n",
       "Injury                    27.909916\n",
       "Fatal (Y/N)               33.781455\n",
       "Time                      66.126623\n",
       "Species                   60.197633\n",
       "Investigator or Source    27.783523\n",
       "pdf                       27.588188\n",
       "href formula              27.599678\n",
       "href                      27.588188\n",
       "Case Number.1             27.588188\n",
       "Case Number.2             27.588188\n",
       "original order            27.507756\n",
       "Unnamed: 22               99.988510\n",
       "Unnamed: 23               99.977019\n",
       "dtype: float64"
      ]
     },
     "metadata": {},
     "output_type": "display_data"
    },
    {
     "data": {
      "image/png": "[encoded data removed]",
      "text/plain": [
       "<Figure size 1000x600 with 1 Axes>"
      ]
     },
     "metadata": {},
     "output_type": "display_data"
    }
   ],
   "source": [
    "check_nan(sharks)    # vemos cómo ha cambiado la gráfica, aunque siguen apareciendo muchos valores nulos"
   ]
  },
  {
   "cell_type": "code",
   "execution_count": 10,
   "id": "1ab9fa0a",
   "metadata": {},
   "outputs": [
    {
     "data": {
      "text/plain": [
       "True"
      ]
     },
     "execution_count": 10,
     "metadata": {},
     "output_type": "execute_result"
    }
   ],
   "source": [
    "sharks.duplicated().any()    # comprobamos si hay duplicados"
   ]
  },
  {
   "cell_type": "code",
   "execution_count": 11,
   "id": "289e4436",
   "metadata": {},
   "outputs": [],
   "source": [
    "sharks.drop_duplicates(inplace=True)   # eliminamos los duplicados\n"
   ]
  },
  {
   "cell_type": "code",
   "execution_count": 12,
   "id": "db43a7dc",
   "metadata": {},
   "outputs": [
    {
     "data": {
      "text/plain": [
       "False"
      ]
     },
     "execution_count": 12,
     "metadata": {},
     "output_type": "execute_result"
    }
   ],
   "source": [
    "sharks.duplicated().any()     #comprobamos de nuevo"
   ]
  },
  {
   "cell_type": "code",
   "execution_count": 13,
   "id": "7399ea5f",
   "metadata": {},
   "outputs": [
    {
     "data": {
      "text/plain": [
       "(6311, 24)"
      ]
     },
     "execution_count": 13,
     "metadata": {},
     "output_type": "execute_result"
    }
   ],
   "source": [
    "sharks.shape    # se ha reducido de nuevo el nº de filas"
   ]
  },
  {
   "cell_type": "code",
   "execution_count": 14,
   "id": "b97a21f7",
   "metadata": {},
   "outputs": [
    {
     "data": {
      "text/plain": [
       "'N nan cols: 24'"
      ]
     },
     "metadata": {},
     "output_type": "display_data"
    },
    {
     "data": {
      "text/plain": [
       "Case Number                0.015845\n",
       "Date                       0.142608\n",
       "Year                       0.174299\n",
       "Type                       0.205990\n",
       "Country                    0.934876\n",
       "Area                       7.352242\n",
       "Location                   8.699097\n",
       "Activity                   8.762478\n",
       "Name                       3.470132\n",
       "Sex                        9.095231\n",
       "Age                       45.000792\n",
       "Injury                     0.586278\n",
       "Fatal (Y/N)                8.683251\n",
       "Time                      53.287910\n",
       "Species                   45.111710\n",
       "Investigator or Source     0.411979\n",
       "pdf                        0.142608\n",
       "href formula               0.158453\n",
       "href                       0.142608\n",
       "Case Number.1              0.142608\n",
       "Case Number.2              0.142608\n",
       "original order             0.031691\n",
       "Unnamed: 22               99.984155\n",
       "Unnamed: 23               99.968309\n",
       "dtype: float64"
      ]
     },
     "metadata": {},
     "output_type": "display_data"
    },
    {
     "data": {
      "image/png": "[encoded data removed]",
      "text/plain": [
       "<Figure size 1000x600 with 1 Axes>"
      ]
     },
     "metadata": {},
     "output_type": "display_data"
    }
   ],
   "source": [
    "check_nan(sharks) "
   ]
  },
  {
   "cell_type": "code",
   "execution_count": 15,
   "id": "3ba02ed0",
   "metadata": {},
   "outputs": [],
   "source": [
    "# ahora vamos a eliminar las columnas en las que la mayoría de sus datos son nulos: 'Unnamed: 22' y 'Unnamed: 23'\n",
    "\n",
    "\n",
    "borrar_cols = ['Unnamed: 22', 'Unnamed: 23']\n",
    "sharks.drop(columns = borrar_cols, inplace=True)\n"
   ]
  },
  {
   "cell_type": "code",
   "execution_count": 16,
   "id": "937b1225",
   "metadata": {},
   "outputs": [
    {
     "data": {
      "text/plain": [
       "Int64Index([6302, 6303, 6304, 6305, 6306, 6307, 6308, 6309, 25722], dtype='int64')"
      ]
     },
     "execution_count": 16,
     "metadata": {},
     "output_type": "execute_result"
    }
   ],
   "source": [
    "# se observa que hay muchas filas con numerosos valores nulos\n",
    "# vamos a calcular el porcentaje de nulos por filas y establecer el umbral en 75%\n",
    "\n",
    "\n",
    "porc_filas_nulas = sharks.isna().mean(axis=1) * 100\n",
    "\n",
    "umbral = 75\n",
    "\n",
    "eliminar = sharks[porc_filas_nulas > umbral]\n",
    "eliminar = eliminar.index\n",
    "eliminar"
   ]
  },
  {
   "cell_type": "code",
   "execution_count": 17,
   "id": "72bd8c65",
   "metadata": {},
   "outputs": [],
   "source": [
    "# tras comprobar las filas en las que más del 75% son valores nulos, decidimos eliminarlas\n",
    "\n",
    "sharks.drop(index = eliminar, inplace = True)"
   ]
  },
  {
   "cell_type": "code",
   "execution_count": 18,
   "id": "40ea144f",
   "metadata": {},
   "outputs": [
    {
     "data": {
      "text/plain": [
       "(6302, 22)"
      ]
     },
     "execution_count": 18,
     "metadata": {},
     "output_type": "execute_result"
    }
   ],
   "source": [
    "sharks.shape # llegado este momento, hemos pasado de (6311, 24) a (6302, 22)"
   ]
  },
  {
   "cell_type": "code",
   "execution_count": 19,
   "id": "a95ea217",
   "metadata": {},
   "outputs": [
    {
     "data": {
      "text/html": [
       "<div>\n",
       "<style scoped>\n",
       "    .dataframe tbody tr th:only-of-type {\n",
       "        vertical-align: middle;\n",
       "    }\n",
       "\n",
       "    .dataframe tbody tr th {\n",
       "        vertical-align: top;\n",
       "    }\n",
       "\n",
       "    .dataframe thead th {\n",
       "        text-align: right;\n",
       "    }\n",
       "</style>\n",
       "<table border=\"1\" class=\"dataframe\">\n",
       "  <thead>\n",
       "    <tr style=\"text-align: right;\">\n",
       "      <th></th>\n",
       "      <th>Time</th>\n",
       "      <th>Age</th>\n",
       "      <th>Species</th>\n",
       "    </tr>\n",
       "  </thead>\n",
       "  <tbody>\n",
       "    <tr>\n",
       "      <th>0</th>\n",
       "      <td>18h00</td>\n",
       "      <td>57</td>\n",
       "      <td>White shark</td>\n",
       "    </tr>\n",
       "    <tr>\n",
       "      <th>1</th>\n",
       "      <td>14h00  -15h00</td>\n",
       "      <td>11</td>\n",
       "      <td>NaN</td>\n",
       "    </tr>\n",
       "    <tr>\n",
       "      <th>2</th>\n",
       "      <td>07h45</td>\n",
       "      <td>48</td>\n",
       "      <td>NaN</td>\n",
       "    </tr>\n",
       "    <tr>\n",
       "      <th>3</th>\n",
       "      <td>NaN</td>\n",
       "      <td>NaN</td>\n",
       "      <td>2 m shark</td>\n",
       "    </tr>\n",
       "    <tr>\n",
       "      <th>4</th>\n",
       "      <td>NaN</td>\n",
       "      <td>NaN</td>\n",
       "      <td>Tiger shark, 3m</td>\n",
       "    </tr>\n",
       "    <tr>\n",
       "      <th>...</th>\n",
       "      <td>...</td>\n",
       "      <td>...</td>\n",
       "      <td>...</td>\n",
       "    </tr>\n",
       "    <tr>\n",
       "      <th>6297</th>\n",
       "      <td>NaN</td>\n",
       "      <td>NaN</td>\n",
       "      <td>NaN</td>\n",
       "    </tr>\n",
       "    <tr>\n",
       "      <th>6298</th>\n",
       "      <td>NaN</td>\n",
       "      <td>NaN</td>\n",
       "      <td>NaN</td>\n",
       "    </tr>\n",
       "    <tr>\n",
       "      <th>6299</th>\n",
       "      <td>NaN</td>\n",
       "      <td>NaN</td>\n",
       "      <td>NaN</td>\n",
       "    </tr>\n",
       "    <tr>\n",
       "      <th>6300</th>\n",
       "      <td>NaN</td>\n",
       "      <td>NaN</td>\n",
       "      <td>NaN</td>\n",
       "    </tr>\n",
       "    <tr>\n",
       "      <th>6301</th>\n",
       "      <td>NaN</td>\n",
       "      <td>15</td>\n",
       "      <td>NaN</td>\n",
       "    </tr>\n",
       "  </tbody>\n",
       "</table>\n",
       "<p>6302 rows × 3 columns</p>\n",
       "</div>"
      ],
      "text/plain": [
       "               Time  Age         Species \n",
       "0             18h00   57      White shark\n",
       "1     14h00  -15h00   11              NaN\n",
       "2             07h45   48              NaN\n",
       "3               NaN  NaN        2 m shark\n",
       "4               NaN  NaN  Tiger shark, 3m\n",
       "...             ...  ...              ...\n",
       "6297            NaN  NaN              NaN\n",
       "6298            NaN  NaN              NaN\n",
       "6299            NaN  NaN              NaN\n",
       "6300            NaN  NaN              NaN\n",
       "6301            NaN   15              NaN\n",
       "\n",
       "[6302 rows x 3 columns]"
      ]
     },
     "execution_count": 19,
     "metadata": {},
     "output_type": "execute_result"
    }
   ],
   "source": [
    "sharks[['Time', 'Age','Species ']]"
   ]
  },
  {
   "cell_type": "code",
   "execution_count": 20,
   "id": "1c3b6ea5",
   "metadata": {},
   "outputs": [
    {
     "data": {
      "text/html": [
       "<div>\n",
       "<style scoped>\n",
       "    .dataframe tbody tr th:only-of-type {\n",
       "        vertical-align: middle;\n",
       "    }\n",
       "\n",
       "    .dataframe tbody tr th {\n",
       "        vertical-align: top;\n",
       "    }\n",
       "\n",
       "    .dataframe thead th {\n",
       "        text-align: right;\n",
       "    }\n",
       "</style>\n",
       "<table border=\"1\" class=\"dataframe\">\n",
       "  <thead>\n",
       "    <tr style=\"text-align: right;\">\n",
       "      <th></th>\n",
       "      <th>Case Number</th>\n",
       "      <th>Date</th>\n",
       "      <th>Year</th>\n",
       "      <th>Type</th>\n",
       "      <th>Country</th>\n",
       "      <th>Area</th>\n",
       "      <th>Location</th>\n",
       "      <th>Activity</th>\n",
       "      <th>Name</th>\n",
       "      <th>Sex</th>\n",
       "      <th>Age</th>\n",
       "      <th>Injury</th>\n",
       "      <th>Fatal (Y/N)</th>\n",
       "      <th>Time</th>\n",
       "      <th>Species</th>\n",
       "      <th>Investigator or Source</th>\n",
       "      <th>pdf</th>\n",
       "      <th>href formula</th>\n",
       "      <th>href</th>\n",
       "      <th>Case Number.1</th>\n",
       "      <th>Case Number.2</th>\n",
       "      <th>original order</th>\n",
       "    </tr>\n",
       "  </thead>\n",
       "  <tbody>\n",
       "    <tr>\n",
       "      <th>5</th>\n",
       "      <td>2018.06.03.b</td>\n",
       "      <td>03-Jun-2018</td>\n",
       "      <td>2018.0</td>\n",
       "      <td>Unprovoked</td>\n",
       "      <td>AUSTRALIA</td>\n",
       "      <td>New South Wales</td>\n",
       "      <td>Flat Rock, Ballina</td>\n",
       "      <td>Kite surfing</td>\n",
       "      <td>Chris</td>\n",
       "      <td>M</td>\n",
       "      <td>NaN</td>\n",
       "      <td>No injury, board bitten</td>\n",
       "      <td>N</td>\n",
       "      <td>NaN</td>\n",
       "      <td>NaN</td>\n",
       "      <td>Daily Telegraph, 6/4/2018</td>\n",
       "      <td>2018.06.03.b-FlatRock.pdf</td>\n",
       "      <td>http://sharkattackfile.net/spreadsheets/pdf_di...</td>\n",
       "      <td>http://sharkattackfile.net/spreadsheets/pdf_di...</td>\n",
       "      <td>2018.06.03.b</td>\n",
       "      <td>2018.06.03.b</td>\n",
       "      <td>6298.0</td>\n",
       "    </tr>\n",
       "    <tr>\n",
       "      <th>17</th>\n",
       "      <td>2018.04.30.R</td>\n",
       "      <td>Reported 30-Apr-2018</td>\n",
       "      <td>2018.0</td>\n",
       "      <td>Unprovoked</td>\n",
       "      <td>THAILAND</td>\n",
       "      <td>Hua Hin</td>\n",
       "      <td>Sai Noi Beach</td>\n",
       "      <td>Swimming</td>\n",
       "      <td>female</td>\n",
       "      <td>M</td>\n",
       "      <td>NaN</td>\n",
       "      <td>Minor injury to ankle</td>\n",
       "      <td>N</td>\n",
       "      <td>NaN</td>\n",
       "      <td>NaN</td>\n",
       "      <td>K. McMurray, TrackingSharks.com</td>\n",
       "      <td>2018.04.30.R-Thailand.pdf</td>\n",
       "      <td>http://sharkattackfile.net/spreadsheets/pdf_di...</td>\n",
       "      <td>http://sharkattackfile.net/spreadsheets/pdf_di...</td>\n",
       "      <td>2018.04.30.R</td>\n",
       "      <td>2018.04.30.R</td>\n",
       "      <td>6286.0</td>\n",
       "    </tr>\n",
       "    <tr>\n",
       "      <th>90</th>\n",
       "      <td>2017.09.06.R</td>\n",
       "      <td>Reported 06-Sep-2017</td>\n",
       "      <td>2017.0</td>\n",
       "      <td>Unprovoked</td>\n",
       "      <td>SOLOMON ISLANDS</td>\n",
       "      <td>NaN</td>\n",
       "      <td>Owarigi Island</td>\n",
       "      <td>Spearfishing</td>\n",
       "      <td>Bartholmew</td>\n",
       "      <td>M</td>\n",
       "      <td>NaN</td>\n",
       "      <td>Foot bitten</td>\n",
       "      <td>N</td>\n",
       "      <td>NaN</td>\n",
       "      <td>NaN</td>\n",
       "      <td>BBC</td>\n",
       "      <td>2017.09.06-Bartholomew.pdf</td>\n",
       "      <td>http://sharkattackfile.net/spreadsheets/pdf_di...</td>\n",
       "      <td>http://sharkattackfile.net/spreadsheets/pdf_di...</td>\n",
       "      <td>2017.09.06.R</td>\n",
       "      <td>2017.09.06.R</td>\n",
       "      <td>6213.0</td>\n",
       "    </tr>\n",
       "    <tr>\n",
       "      <th>94</th>\n",
       "      <td>2017.09.02.b</td>\n",
       "      <td>02-Sep-2017</td>\n",
       "      <td>2017.0</td>\n",
       "      <td>Unprovoked</td>\n",
       "      <td>USA</td>\n",
       "      <td>Texas</td>\n",
       "      <td>South Padre Island, Cameron County</td>\n",
       "      <td>Swimming</td>\n",
       "      <td>female</td>\n",
       "      <td>F</td>\n",
       "      <td>NaN</td>\n",
       "      <td>Lacerations to foot</td>\n",
       "      <td>N</td>\n",
       "      <td>NaN</td>\n",
       "      <td>NaN</td>\n",
       "      <td>Brownsville Herald, 9/5/2017</td>\n",
       "      <td>2017.09.02.b-SouthPadre.pdf</td>\n",
       "      <td>http://sharkattackfile.net/spreadsheets/pdf_di...</td>\n",
       "      <td>http://sharkattackfile.net/spreadsheets/pdf_di...</td>\n",
       "      <td>2017.09.02.b</td>\n",
       "      <td>2017.09.02.b</td>\n",
       "      <td>6209.0</td>\n",
       "    </tr>\n",
       "    <tr>\n",
       "      <th>99</th>\n",
       "      <td>2017.08.26.a</td>\n",
       "      <td>26-Aug-2017</td>\n",
       "      <td>2017.0</td>\n",
       "      <td>Unprovoked</td>\n",
       "      <td>NEW ZEALAND</td>\n",
       "      <td>North Island</td>\n",
       "      <td>Off Tutukaka</td>\n",
       "      <td>Canoeing</td>\n",
       "      <td>Matt Kensington</td>\n",
       "      <td>M</td>\n",
       "      <td>NaN</td>\n",
       "      <td>No injury, shark bit canoe</td>\n",
       "      <td>N</td>\n",
       "      <td>NaN</td>\n",
       "      <td>NaN</td>\n",
       "      <td>C.Black, GSAF</td>\n",
       "      <td>2017.08.26.a-Kensington.pdf</td>\n",
       "      <td>http://sharkattackfile.net/spreadsheets/pdf_di...</td>\n",
       "      <td>http://sharkattackfile.net/spreadsheets/pdf_di...</td>\n",
       "      <td>2017.08.26.a</td>\n",
       "      <td>2017.08.26.a</td>\n",
       "      <td>6204.0</td>\n",
       "    </tr>\n",
       "    <tr>\n",
       "      <th>...</th>\n",
       "      <td>...</td>\n",
       "      <td>...</td>\n",
       "      <td>...</td>\n",
       "      <td>...</td>\n",
       "      <td>...</td>\n",
       "      <td>...</td>\n",
       "      <td>...</td>\n",
       "      <td>...</td>\n",
       "      <td>...</td>\n",
       "      <td>...</td>\n",
       "      <td>...</td>\n",
       "      <td>...</td>\n",
       "      <td>...</td>\n",
       "      <td>...</td>\n",
       "      <td>...</td>\n",
       "      <td>...</td>\n",
       "      <td>...</td>\n",
       "      <td>...</td>\n",
       "      <td>...</td>\n",
       "      <td>...</td>\n",
       "      <td>...</td>\n",
       "      <td>...</td>\n",
       "    </tr>\n",
       "    <tr>\n",
       "      <th>6292</th>\n",
       "      <td>ND.0010</td>\n",
       "      <td>Circa 1862</td>\n",
       "      <td>0.0</td>\n",
       "      <td>Unprovoked</td>\n",
       "      <td>USA</td>\n",
       "      <td>Hawaii</td>\n",
       "      <td>Puna</td>\n",
       "      <td>NaN</td>\n",
       "      <td>A \"chiefess\"</td>\n",
       "      <td>F</td>\n",
       "      <td>NaN</td>\n",
       "      <td>Ankle bitten</td>\n",
       "      <td>N</td>\n",
       "      <td>NaN</td>\n",
       "      <td>NaN</td>\n",
       "      <td>Captain W. Young</td>\n",
       "      <td>ND-0010-Puna Hawaii.pdf</td>\n",
       "      <td>http://sharkattackfile.net/spreadsheets/pdf_di...</td>\n",
       "      <td>http://sharkattackfile.net/spreadsheets/pdf_di...</td>\n",
       "      <td>ND.0010</td>\n",
       "      <td>ND.0010</td>\n",
       "      <td>11.0</td>\n",
       "    </tr>\n",
       "    <tr>\n",
       "      <th>6297</th>\n",
       "      <td>ND.0005</td>\n",
       "      <td>Before 1903</td>\n",
       "      <td>0.0</td>\n",
       "      <td>Unprovoked</td>\n",
       "      <td>AUSTRALIA</td>\n",
       "      <td>Western Australia</td>\n",
       "      <td>Roebuck Bay</td>\n",
       "      <td>Diving</td>\n",
       "      <td>male</td>\n",
       "      <td>M</td>\n",
       "      <td>NaN</td>\n",
       "      <td>FATAL</td>\n",
       "      <td>Y</td>\n",
       "      <td>NaN</td>\n",
       "      <td>NaN</td>\n",
       "      <td>H. Taunton; N. Bartlett,  p. 234</td>\n",
       "      <td>ND-0005-RoebuckBay.pdf</td>\n",
       "      <td>http://sharkattackfile.net/spreadsheets/pdf_di...</td>\n",
       "      <td>http://sharkattackfile.net/spreadsheets/pdf_di...</td>\n",
       "      <td>ND.0005</td>\n",
       "      <td>ND.0005</td>\n",
       "      <td>6.0</td>\n",
       "    </tr>\n",
       "    <tr>\n",
       "      <th>6298</th>\n",
       "      <td>ND.0004</td>\n",
       "      <td>Before 1903</td>\n",
       "      <td>0.0</td>\n",
       "      <td>Unprovoked</td>\n",
       "      <td>AUSTRALIA</td>\n",
       "      <td>Western Australia</td>\n",
       "      <td>NaN</td>\n",
       "      <td>Pearl diving</td>\n",
       "      <td>Ahmun</td>\n",
       "      <td>M</td>\n",
       "      <td>NaN</td>\n",
       "      <td>FATAL</td>\n",
       "      <td>Y</td>\n",
       "      <td>NaN</td>\n",
       "      <td>NaN</td>\n",
       "      <td>H. Taunton; N. Bartlett,  pp. 233-234</td>\n",
       "      <td>ND-0004-Ahmun.pdf</td>\n",
       "      <td>http://sharkattackfile.net/spreadsheets/pdf_di...</td>\n",
       "      <td>http://sharkattackfile.net/spreadsheets/pdf_di...</td>\n",
       "      <td>ND.0004</td>\n",
       "      <td>ND.0004</td>\n",
       "      <td>5.0</td>\n",
       "    </tr>\n",
       "    <tr>\n",
       "      <th>6299</th>\n",
       "      <td>ND.0003</td>\n",
       "      <td>1900-1905</td>\n",
       "      <td>0.0</td>\n",
       "      <td>Unprovoked</td>\n",
       "      <td>USA</td>\n",
       "      <td>North Carolina</td>\n",
       "      <td>Ocracoke Inlet</td>\n",
       "      <td>Swimming</td>\n",
       "      <td>Coast Guard personnel</td>\n",
       "      <td>M</td>\n",
       "      <td>NaN</td>\n",
       "      <td>FATAL</td>\n",
       "      <td>Y</td>\n",
       "      <td>NaN</td>\n",
       "      <td>NaN</td>\n",
       "      <td>F. Schwartz, p.23; C. Creswell, GSAF</td>\n",
       "      <td>ND-0003-Ocracoke_1900-1905.pdf</td>\n",
       "      <td>http://sharkattackfile.net/spreadsheets/pdf_di...</td>\n",
       "      <td>http://sharkattackfile.net/spreadsheets/pdf_di...</td>\n",
       "      <td>ND.0003</td>\n",
       "      <td>ND.0003</td>\n",
       "      <td>4.0</td>\n",
       "    </tr>\n",
       "    <tr>\n",
       "      <th>6300</th>\n",
       "      <td>ND.0002</td>\n",
       "      <td>1883-1889</td>\n",
       "      <td>0.0</td>\n",
       "      <td>Unprovoked</td>\n",
       "      <td>PANAMA</td>\n",
       "      <td>NaN</td>\n",
       "      <td>Panama Bay 8ºN, 79ºW</td>\n",
       "      <td>NaN</td>\n",
       "      <td>Jules Patterson</td>\n",
       "      <td>M</td>\n",
       "      <td>NaN</td>\n",
       "      <td>FATAL</td>\n",
       "      <td>Y</td>\n",
       "      <td>NaN</td>\n",
       "      <td>NaN</td>\n",
       "      <td>The Sun, 10/20/1938</td>\n",
       "      <td>ND-0002-JulesPatterson.pdf</td>\n",
       "      <td>http://sharkattackfile.net/spreadsheets/pdf_di...</td>\n",
       "      <td>http://sharkattackfile.net/spreadsheets/pdf_di...</td>\n",
       "      <td>ND.0002</td>\n",
       "      <td>ND.0002</td>\n",
       "      <td>3.0</td>\n",
       "    </tr>\n",
       "  </tbody>\n",
       "</table>\n",
       "<p>1305 rows × 22 columns</p>\n",
       "</div>"
      ],
      "text/plain": [
       "       Case Number                  Date    Year        Type          Country  \\\n",
       "5     2018.06.03.b           03-Jun-2018  2018.0  Unprovoked        AUSTRALIA   \n",
       "17    2018.04.30.R  Reported 30-Apr-2018  2018.0  Unprovoked         THAILAND   \n",
       "90    2017.09.06.R  Reported 06-Sep-2017  2017.0  Unprovoked  SOLOMON ISLANDS   \n",
       "94    2017.09.02.b           02-Sep-2017  2017.0  Unprovoked              USA   \n",
       "99    2017.08.26.a           26-Aug-2017  2017.0  Unprovoked      NEW ZEALAND   \n",
       "...            ...                   ...     ...         ...              ...   \n",
       "6292       ND.0010            Circa 1862     0.0  Unprovoked              USA   \n",
       "6297       ND.0005           Before 1903     0.0  Unprovoked        AUSTRALIA   \n",
       "6298       ND.0004           Before 1903     0.0  Unprovoked        AUSTRALIA   \n",
       "6299       ND.0003             1900-1905     0.0  Unprovoked              USA   \n",
       "6300       ND.0002             1883-1889     0.0  Unprovoked           PANAMA   \n",
       "\n",
       "                   Area                            Location      Activity  \\\n",
       "5       New South Wales                  Flat Rock, Ballina  Kite surfing   \n",
       "17              Hua Hin                       Sai Noi Beach      Swimming   \n",
       "90                  NaN                      Owarigi Island  Spearfishing   \n",
       "94                Texas  South Padre Island, Cameron County      Swimming   \n",
       "99         North Island                        Off Tutukaka      Canoeing   \n",
       "...                 ...                                 ...           ...   \n",
       "6292             Hawaii                                Puna           NaN   \n",
       "6297  Western Australia                         Roebuck Bay        Diving   \n",
       "6298  Western Australia                                 NaN  Pearl diving   \n",
       "6299     North Carolina                      Ocracoke Inlet      Swimming   \n",
       "6300                NaN                Panama Bay 8ºN, 79ºW           NaN   \n",
       "\n",
       "                       Name Sex   Age                      Injury Fatal (Y/N)  \\\n",
       "5                   Chris \n",
       "    M  NaN     No injury, board bitten           N   \n",
       "17                   female    M  NaN       Minor injury to ankle           N   \n",
       "90               Bartholmew    M  NaN                 Foot bitten           N   \n",
       "94                   female    F  NaN         Lacerations to foot           N   \n",
       "99          Matt Kensington    M  NaN  No injury, shark bit canoe           N   \n",
       "...                     ...  ...  ...                         ...         ...   \n",
       "6292           A \"chiefess\"    F  NaN                Ankle bitten           N   \n",
       "6297                   male    M  NaN                       FATAL           Y   \n",
       "6298                  Ahmun    M  NaN                       FATAL           Y   \n",
       "6299  Coast Guard personnel    M  NaN                       FATAL           Y   \n",
       "6300        Jules Patterson    M  NaN                       FATAL           Y   \n",
       "\n",
       "     Time Species                  Investigator or Source  \\\n",
       "5     NaN      NaN              Daily Telegraph, 6/4/2018   \n",
       "17    NaN      NaN        K. McMurray, TrackingSharks.com   \n",
       "90    NaN      NaN                                    BBC   \n",
       "94    NaN      NaN           Brownsville Herald, 9/5/2017   \n",
       "99    NaN      NaN                          C.Black, GSAF   \n",
       "...   ...      ...                                    ...   \n",
       "6292  NaN      NaN                       Captain W. Young   \n",
       "6297  NaN      NaN       H. Taunton; N. Bartlett,  p. 234   \n",
       "6298  NaN      NaN  H. Taunton; N. Bartlett,  pp. 233-234   \n",
       "6299  NaN      NaN   F. Schwartz, p.23; C. Creswell, GSAF   \n",
       "6300  NaN      NaN                    The Sun, 10/20/1938   \n",
       "\n",
       "                                 pdf  \\\n",
       "5          2018.06.03.b-FlatRock.pdf   \n",
       "17         2018.04.30.R-Thailand.pdf   \n",
       "90        2017.09.06-Bartholomew.pdf   \n",
       "94       2017.09.02.b-SouthPadre.pdf   \n",
       "99       2017.08.26.a-Kensington.pdf   \n",
       "...                              ...   \n",
       "6292         ND-0010-Puna Hawaii.pdf   \n",
       "6297          ND-0005-RoebuckBay.pdf   \n",
       "6298               ND-0004-Ahmun.pdf   \n",
       "6299  ND-0003-Ocracoke_1900-1905.pdf   \n",
       "6300      ND-0002-JulesPatterson.pdf   \n",
       "\n",
       "                                           href formula  \\\n",
       "5     http://sharkattackfile.net/spreadsheets/pdf_di...   \n",
       "17    http://sharkattackfile.net/spreadsheets/pdf_di...   \n",
       "90    http://sharkattackfile.net/spreadsheets/pdf_di...   \n",
       "94    http://sharkattackfile.net/spreadsheets/pdf_di...   \n",
       "99    http://sharkattackfile.net/spreadsheets/pdf_di...   \n",
       "...                                                 ...   \n",
       "6292  http://sharkattackfile.net/spreadsheets/pdf_di...   \n",
       "6297  http://sharkattackfile.net/spreadsheets/pdf_di...   \n",
       "6298  http://sharkattackfile.net/spreadsheets/pdf_di...   \n",
       "6299  http://sharkattackfile.net/spreadsheets/pdf_di...   \n",
       "6300  http://sharkattackfile.net/spreadsheets/pdf_di...   \n",
       "\n",
       "                                                   href Case Number.1  \\\n",
       "5     http://sharkattackfile.net/spreadsheets/pdf_di...  2018.06.03.b   \n",
       "17    http://sharkattackfile.net/spreadsheets/pdf_di...  2018.04.30.R   \n",
       "90    http://sharkattackfile.net/spreadsheets/pdf_di...  2017.09.06.R   \n",
       "94    http://sharkattackfile.net/spreadsheets/pdf_di...  2017.09.02.b   \n",
       "99    http://sharkattackfile.net/spreadsheets/pdf_di...  2017.08.26.a   \n",
       "...                                                 ...           ...   \n",
       "6292  http://sharkattackfile.net/spreadsheets/pdf_di...       ND.0010   \n",
       "6297  http://sharkattackfile.net/spreadsheets/pdf_di...       ND.0005   \n",
       "6298  http://sharkattackfile.net/spreadsheets/pdf_di...       ND.0004   \n",
       "6299  http://sharkattackfile.net/spreadsheets/pdf_di...       ND.0003   \n",
       "6300  http://sharkattackfile.net/spreadsheets/pdf_di...       ND.0002   \n",
       "\n",
       "     Case Number.2  original order  \n",
       "5     2018.06.03.b          6298.0  \n",
       "17    2018.04.30.R          6286.0  \n",
       "90    2017.09.06.R          6213.0  \n",
       "94    2017.09.02.b          6209.0  \n",
       "99    2017.08.26.a          6204.0  \n",
       "...            ...             ...  \n",
       "6292       ND.0010            11.0  \n",
       "6297       ND.0005             6.0  \n",
       "6298       ND.0004             5.0  \n",
       "6299       ND.0003             4.0  \n",
       "6300       ND.0002             3.0  \n",
       "\n",
       "[1305 rows x 22 columns]"
      ]
     },
     "execution_count": 20,
     "metadata": {},
     "output_type": "execute_result"
    }
   ],
   "source": [
    "sharks[sharks[['Time', 'Age', 'Species ']].isnull().all(axis=1)] # aquí vemos las filas en las que esas tres \n",
    "                                                                 # columnas tienen valores nulos"
   ]
  },
  {
   "cell_type": "code",
   "execution_count": 21,
   "id": "b434005b",
   "metadata": {},
   "outputs": [
    {
     "data": {
      "text/plain": [
       "6282"
      ]
     },
     "execution_count": 21,
     "metadata": {},
     "output_type": "execute_result"
    }
   ],
   "source": [
    "(sharks['Case Number.1'] == sharks['Case Number.2']).sum() # esto nos indica que no todos los valores de una y otra \n",
    "                                                           # son iguales, ya que en total hay 6302 columnas\n"
   ]
  },
  {
   "cell_type": "code",
   "execution_count": 22,
   "id": "926e17cd",
   "metadata": {},
   "outputs": [
    {
     "data": {
      "text/plain": [
       "Index(['Case Number', 'Date', 'Year', 'Type', 'Country', 'Area', 'Location',\n",
       "       'Activity', 'Name', 'Sex ', 'Age', 'Injury', 'Fatal (Y/N)', 'Time',\n",
       "       'Species ', 'Investigator or Source', 'pdf', 'href formula', 'href',\n",
       "       'Case Number.1', 'Case Number.2', 'original order'],\n",
       "      dtype='object')"
      ]
     },
     "execution_count": 22,
     "metadata": {},
     "output_type": "execute_result"
    }
   ],
   "source": [
    "sharks.columns      # Observamos el nombre de las columnas y que en dos de ellas hay espacio al final"
   ]
  },
  {
   "cell_type": "code",
   "execution_count": 23,
   "id": "5b5d003e",
   "metadata": {},
   "outputs": [],
   "source": [
    "sharks['Species'] = sharks['Species '] # renombramos las dos columnas que suelen dar error por tener un espacio \n",
    "                                       # al final\n",
    "sharks['Sex'] = sharks['Sex ']\n"
   ]
  },
  {
   "cell_type": "code",
   "execution_count": 24,
   "id": "ca88d205",
   "metadata": {},
   "outputs": [
    {
     "data": {
      "text/html": [
       "<div>\n",
       "<style scoped>\n",
       "    .dataframe tbody tr th:only-of-type {\n",
       "        vertical-align: middle;\n",
       "    }\n",
       "\n",
       "    .dataframe tbody tr th {\n",
       "        vertical-align: top;\n",
       "    }\n",
       "\n",
       "    .dataframe thead th {\n",
       "        text-align: right;\n",
       "    }\n",
       "</style>\n",
       "<table border=\"1\" class=\"dataframe\">\n",
       "  <thead>\n",
       "    <tr style=\"text-align: right;\">\n",
       "      <th></th>\n",
       "      <th>Case Number</th>\n",
       "      <th>Case Number.1</th>\n",
       "      <th>Case Number.2</th>\n",
       "      <th>Date</th>\n",
       "      <th>Year</th>\n",
       "      <th>Time</th>\n",
       "      <th>Country</th>\n",
       "      <th>Area</th>\n",
       "      <th>Location</th>\n",
       "      <th>Type</th>\n",
       "      <th>Name</th>\n",
       "      <th>Sex</th>\n",
       "      <th>Age</th>\n",
       "      <th>Activity</th>\n",
       "      <th>Injury</th>\n",
       "      <th>Species</th>\n",
       "      <th>Fatal (Y/N)</th>\n",
       "      <th>Investigator or Source</th>\n",
       "      <th>pdf</th>\n",
       "      <th>href formula</th>\n",
       "      <th>href</th>\n",
       "      <th>original order</th>\n",
       "    </tr>\n",
       "  </thead>\n",
       "  <tbody>\n",
       "    <tr>\n",
       "      <th>0</th>\n",
       "      <td>2018.06.25</td>\n",
       "      <td>2018.06.25</td>\n",
       "      <td>2018.06.25</td>\n",
       "      <td>25-Jun-2018</td>\n",
       "      <td>2018.0</td>\n",
       "      <td>18h00</td>\n",
       "      <td>USA</td>\n",
       "      <td>California</td>\n",
       "      <td>Oceanside, San Diego County</td>\n",
       "      <td>Boating</td>\n",
       "      <td>Julie Wolfe</td>\n",
       "      <td>F</td>\n",
       "      <td>57</td>\n",
       "      <td>Paddling</td>\n",
       "      <td>No injury to occupant, outrigger canoe and pad...</td>\n",
       "      <td>White shark</td>\n",
       "      <td>N</td>\n",
       "      <td>R. Collier, GSAF</td>\n",
       "      <td>2018.06.25-Wolfe.pdf</td>\n",
       "      <td>http://sharkattackfile.net/spreadsheets/pdf_di...</td>\n",
       "      <td>http://sharkattackfile.net/spreadsheets/pdf_di...</td>\n",
       "      <td>6303.0</td>\n",
       "    </tr>\n",
       "    <tr>\n",
       "      <th>1</th>\n",
       "      <td>2018.06.18</td>\n",
       "      <td>2018.06.18</td>\n",
       "      <td>2018.06.18</td>\n",
       "      <td>18-Jun-2018</td>\n",
       "      <td>2018.0</td>\n",
       "      <td>14h00  -15h00</td>\n",
       "      <td>USA</td>\n",
       "      <td>Georgia</td>\n",
       "      <td>St. Simon Island, Glynn County</td>\n",
       "      <td>Unprovoked</td>\n",
       "      <td>Adyson McNeely</td>\n",
       "      <td>F</td>\n",
       "      <td>11</td>\n",
       "      <td>Standing</td>\n",
       "      <td>Minor injury to left thigh</td>\n",
       "      <td>NaN</td>\n",
       "      <td>N</td>\n",
       "      <td>K.McMurray, TrackingSharks.com</td>\n",
       "      <td>2018.06.18-McNeely.pdf</td>\n",
       "      <td>http://sharkattackfile.net/spreadsheets/pdf_di...</td>\n",
       "      <td>http://sharkattackfile.net/spreadsheets/pdf_di...</td>\n",
       "      <td>6302.0</td>\n",
       "    </tr>\n",
       "    <tr>\n",
       "      <th>2</th>\n",
       "      <td>2018.06.09</td>\n",
       "      <td>2018.06.09</td>\n",
       "      <td>2018.06.09</td>\n",
       "      <td>09-Jun-2018</td>\n",
       "      <td>2018.0</td>\n",
       "      <td>07h45</td>\n",
       "      <td>USA</td>\n",
       "      <td>Hawaii</td>\n",
       "      <td>Habush, Oahu</td>\n",
       "      <td>Invalid</td>\n",
       "      <td>John Denges</td>\n",
       "      <td>M</td>\n",
       "      <td>48</td>\n",
       "      <td>Surfing</td>\n",
       "      <td>Injury to left lower leg from surfboard skeg</td>\n",
       "      <td>NaN</td>\n",
       "      <td>N</td>\n",
       "      <td>K.McMurray, TrackingSharks.com</td>\n",
       "      <td>2018.06.09-Denges.pdf</td>\n",
       "      <td>http://sharkattackfile.net/spreadsheets/pdf_di...</td>\n",
       "      <td>http://sharkattackfile.net/spreadsheets/pdf_di...</td>\n",
       "      <td>6301.0</td>\n",
       "    </tr>\n",
       "    <tr>\n",
       "      <th>3</th>\n",
       "      <td>2018.06.08</td>\n",
       "      <td>2018.06.08</td>\n",
       "      <td>2018.06.08</td>\n",
       "      <td>08-Jun-2018</td>\n",
       "      <td>2018.0</td>\n",
       "      <td>NaN</td>\n",
       "      <td>AUSTRALIA</td>\n",
       "      <td>New South Wales</td>\n",
       "      <td>Arrawarra Headland</td>\n",
       "      <td>Unprovoked</td>\n",
       "      <td>male</td>\n",
       "      <td>M</td>\n",
       "      <td>NaN</td>\n",
       "      <td>Surfing</td>\n",
       "      <td>Minor injury to lower leg</td>\n",
       "      <td>2 m shark</td>\n",
       "      <td>N</td>\n",
       "      <td>B. Myatt, GSAF</td>\n",
       "      <td>2018.06.08-Arrawarra.pdf</td>\n",
       "      <td>http://sharkattackfile.net/spreadsheets/pdf_di...</td>\n",
       "      <td>http://sharkattackfile.net/spreadsheets/pdf_di...</td>\n",
       "      <td>6300.0</td>\n",
       "    </tr>\n",
       "    <tr>\n",
       "      <th>4</th>\n",
       "      <td>2018.06.04</td>\n",
       "      <td>2018.06.04</td>\n",
       "      <td>2018.06.04</td>\n",
       "      <td>04-Jun-2018</td>\n",
       "      <td>2018.0</td>\n",
       "      <td>NaN</td>\n",
       "      <td>MEXICO</td>\n",
       "      <td>Colima</td>\n",
       "      <td>La Ticla</td>\n",
       "      <td>Provoked</td>\n",
       "      <td>Gustavo Ramos</td>\n",
       "      <td>M</td>\n",
       "      <td>NaN</td>\n",
       "      <td>Free diving</td>\n",
       "      <td>Lacerations to leg &amp; hand shark PROVOKED INCIDENT</td>\n",
       "      <td>Tiger shark, 3m</td>\n",
       "      <td>N</td>\n",
       "      <td>A .Kipper</td>\n",
       "      <td>2018.06.04-Ramos.pdf</td>\n",
       "      <td>http://sharkattackfile.net/spreadsheets/pdf_di...</td>\n",
       "      <td>http://sharkattackfile.net/spreadsheets/pdf_di...</td>\n",
       "      <td>6299.0</td>\n",
       "    </tr>\n",
       "    <tr>\n",
       "      <th>...</th>\n",
       "      <td>...</td>\n",
       "      <td>...</td>\n",
       "      <td>...</td>\n",
       "      <td>...</td>\n",
       "      <td>...</td>\n",
       "      <td>...</td>\n",
       "      <td>...</td>\n",
       "      <td>...</td>\n",
       "      <td>...</td>\n",
       "      <td>...</td>\n",
       "      <td>...</td>\n",
       "      <td>...</td>\n",
       "      <td>...</td>\n",
       "      <td>...</td>\n",
       "      <td>...</td>\n",
       "      <td>...</td>\n",
       "      <td>...</td>\n",
       "      <td>...</td>\n",
       "      <td>...</td>\n",
       "      <td>...</td>\n",
       "      <td>...</td>\n",
       "      <td>...</td>\n",
       "    </tr>\n",
       "    <tr>\n",
       "      <th>6297</th>\n",
       "      <td>ND.0005</td>\n",
       "      <td>ND.0005</td>\n",
       "      <td>ND.0005</td>\n",
       "      <td>Before 1903</td>\n",
       "      <td>0.0</td>\n",
       "      <td>NaN</td>\n",
       "      <td>AUSTRALIA</td>\n",
       "      <td>Western Australia</td>\n",
       "      <td>Roebuck Bay</td>\n",
       "      <td>Unprovoked</td>\n",
       "      <td>male</td>\n",
       "      <td>M</td>\n",
       "      <td>NaN</td>\n",
       "      <td>Diving</td>\n",
       "      <td>FATAL</td>\n",
       "      <td>NaN</td>\n",
       "      <td>Y</td>\n",
       "      <td>H. Taunton; N. Bartlett,  p. 234</td>\n",
       "      <td>ND-0005-RoebuckBay.pdf</td>\n",
       "      <td>http://sharkattackfile.net/spreadsheets/pdf_di...</td>\n",
       "      <td>http://sharkattackfile.net/spreadsheets/pdf_di...</td>\n",
       "      <td>6.0</td>\n",
       "    </tr>\n",
       "    <tr>\n",
       "      <th>6298</th>\n",
       "      <td>ND.0004</td>\n",
       "      <td>ND.0004</td>\n",
       "      <td>ND.0004</td>\n",
       "      <td>Before 1903</td>\n",
       "      <td>0.0</td>\n",
       "      <td>NaN</td>\n",
       "      <td>AUSTRALIA</td>\n",
       "      <td>Western Australia</td>\n",
       "      <td>NaN</td>\n",
       "      <td>Unprovoked</td>\n",
       "      <td>Ahmun</td>\n",
       "      <td>M</td>\n",
       "      <td>NaN</td>\n",
       "      <td>Pearl diving</td>\n",
       "      <td>FATAL</td>\n",
       "      <td>NaN</td>\n",
       "      <td>Y</td>\n",
       "      <td>H. Taunton; N. Bartlett,  pp. 233-234</td>\n",
       "      <td>ND-0004-Ahmun.pdf</td>\n",
       "      <td>http://sharkattackfile.net/spreadsheets/pdf_di...</td>\n",
       "      <td>http://sharkattackfile.net/spreadsheets/pdf_di...</td>\n",
       "      <td>5.0</td>\n",
       "    </tr>\n",
       "    <tr>\n",
       "      <th>6299</th>\n",
       "      <td>ND.0003</td>\n",
       "      <td>ND.0003</td>\n",
       "      <td>ND.0003</td>\n",
       "      <td>1900-1905</td>\n",
       "      <td>0.0</td>\n",
       "      <td>NaN</td>\n",
       "      <td>USA</td>\n",
       "      <td>North Carolina</td>\n",
       "      <td>Ocracoke Inlet</td>\n",
       "      <td>Unprovoked</td>\n",
       "      <td>Coast Guard personnel</td>\n",
       "      <td>M</td>\n",
       "      <td>NaN</td>\n",
       "      <td>Swimming</td>\n",
       "      <td>FATAL</td>\n",
       "      <td>NaN</td>\n",
       "      <td>Y</td>\n",
       "      <td>F. Schwartz, p.23; C. Creswell, GSAF</td>\n",
       "      <td>ND-0003-Ocracoke_1900-1905.pdf</td>\n",
       "      <td>http://sharkattackfile.net/spreadsheets/pdf_di...</td>\n",
       "      <td>http://sharkattackfile.net/spreadsheets/pdf_di...</td>\n",
       "      <td>4.0</td>\n",
       "    </tr>\n",
       "    <tr>\n",
       "      <th>6300</th>\n",
       "      <td>ND.0002</td>\n",
       "      <td>ND.0002</td>\n",
       "      <td>ND.0002</td>\n",
       "      <td>1883-1889</td>\n",
       "      <td>0.0</td>\n",
       "      <td>NaN</td>\n",
       "      <td>PANAMA</td>\n",
       "      <td>NaN</td>\n",
       "      <td>Panama Bay 8ºN, 79ºW</td>\n",
       "      <td>Unprovoked</td>\n",
       "      <td>Jules Patterson</td>\n",
       "      <td>M</td>\n",
       "      <td>NaN</td>\n",
       "      <td>NaN</td>\n",
       "      <td>FATAL</td>\n",
       "      <td>NaN</td>\n",
       "      <td>Y</td>\n",
       "      <td>The Sun, 10/20/1938</td>\n",
       "      <td>ND-0002-JulesPatterson.pdf</td>\n",
       "      <td>http://sharkattackfile.net/spreadsheets/pdf_di...</td>\n",
       "      <td>http://sharkattackfile.net/spreadsheets/pdf_di...</td>\n",
       "      <td>3.0</td>\n",
       "    </tr>\n",
       "    <tr>\n",
       "      <th>6301</th>\n",
       "      <td>ND.0001</td>\n",
       "      <td>ND.0001</td>\n",
       "      <td>ND.0001</td>\n",
       "      <td>1845-1853</td>\n",
       "      <td>0.0</td>\n",
       "      <td>NaN</td>\n",
       "      <td>CEYLON (SRI LANKA)</td>\n",
       "      <td>Eastern Province</td>\n",
       "      <td>Below the English fort, Trincomalee</td>\n",
       "      <td>Unprovoked</td>\n",
       "      <td>male</td>\n",
       "      <td>M</td>\n",
       "      <td>15</td>\n",
       "      <td>Swimming</td>\n",
       "      <td>FATAL. \"Shark bit him in half, carrying away t...</td>\n",
       "      <td>NaN</td>\n",
       "      <td>Y</td>\n",
       "      <td>S.W. Baker</td>\n",
       "      <td>ND-0001-Ceylon.pdf</td>\n",
       "      <td>http://sharkattackfile.net/spreadsheets/pdf_di...</td>\n",
       "      <td>http://sharkattackfile.net/spreadsheets/pdf_di...</td>\n",
       "      <td>2.0</td>\n",
       "    </tr>\n",
       "  </tbody>\n",
       "</table>\n",
       "<p>6302 rows × 22 columns</p>\n",
       "</div>"
      ],
      "text/plain": [
       "     Case Number Case Number.1 Case Number.2         Date    Year  \\\n",
       "0     2018.06.25    2018.06.25    2018.06.25  25-Jun-2018  2018.0   \n",
       "1     2018.06.18    2018.06.18    2018.06.18  18-Jun-2018  2018.0   \n",
       "2     2018.06.09    2018.06.09    2018.06.09  09-Jun-2018  2018.0   \n",
       "3     2018.06.08    2018.06.08    2018.06.08  08-Jun-2018  2018.0   \n",
       "4     2018.06.04    2018.06.04    2018.06.04  04-Jun-2018  2018.0   \n",
       "...          ...           ...           ...          ...     ...   \n",
       "6297     ND.0005       ND.0005       ND.0005  Before 1903     0.0   \n",
       "6298     ND.0004       ND.0004       ND.0004  Before 1903     0.0   \n",
       "6299     ND.0003       ND.0003       ND.0003    1900-1905     0.0   \n",
       "6300     ND.0002       ND.0002       ND.0002    1883-1889     0.0   \n",
       "6301     ND.0001       ND.0001       ND.0001    1845-1853     0.0   \n",
       "\n",
       "               Time             Country               Area  \\\n",
       "0             18h00                 USA         California   \n",
       "1     14h00  -15h00                 USA            Georgia   \n",
       "2             07h45                 USA             Hawaii   \n",
       "3               NaN           AUSTRALIA    New South Wales   \n",
       "4               NaN              MEXICO             Colima   \n",
       "...             ...                 ...                ...   \n",
       "6297            NaN           AUSTRALIA  Western Australia   \n",
       "6298            NaN           AUSTRALIA  Western Australia   \n",
       "6299            NaN                 USA     North Carolina   \n",
       "6300            NaN              PANAMA                NaN   \n",
       "6301            NaN  CEYLON (SRI LANKA)   Eastern Province   \n",
       "\n",
       "                                 Location        Type                   Name  \\\n",
       "0             Oceanside, San Diego County     Boating            Julie Wolfe   \n",
       "1          St. Simon Island, Glynn County  Unprovoked        Adyson McNeely    \n",
       "2                            Habush, Oahu     Invalid            John Denges   \n",
       "3                      Arrawarra Headland  Unprovoked                   male   \n",
       "4                                La Ticla    Provoked         Gustavo Ramos    \n",
       "...                                   ...         ...                    ...   \n",
       "6297                          Roebuck Bay  Unprovoked                   male   \n",
       "6298                                  NaN  Unprovoked                  Ahmun   \n",
       "6299                       Ocracoke Inlet  Unprovoked  Coast Guard personnel   \n",
       "6300                 Panama Bay 8ºN, 79ºW  Unprovoked        Jules Patterson   \n",
       "6301  Below the English fort, Trincomalee  Unprovoked                   male   \n",
       "\n",
       "     Sex  Age      Activity  \\\n",
       "0      F   57      Paddling   \n",
       "1      F   11      Standing   \n",
       "2      M   48       Surfing   \n",
       "3      M  NaN       Surfing   \n",
       "4      M  NaN   Free diving   \n",
       "...   ..  ...           ...   \n",
       "6297   M  NaN        Diving   \n",
       "6298   M  NaN  Pearl diving   \n",
       "6299   M  NaN      Swimming   \n",
       "6300   M  NaN           NaN   \n",
       "6301   M   15      Swimming   \n",
       "\n",
       "                                                 Injury          Species  \\\n",
       "0     No injury to occupant, outrigger canoe and pad...      White shark   \n",
       "1                            Minor injury to left thigh              NaN   \n",
       "2          Injury to left lower leg from surfboard skeg              NaN   \n",
       "3                             Minor injury to lower leg        2 m shark   \n",
       "4     Lacerations to leg & hand shark PROVOKED INCIDENT  Tiger shark, 3m   \n",
       "...                                                 ...              ...   \n",
       "6297                                              FATAL              NaN   \n",
       "6298                                              FATAL              NaN   \n",
       "6299                                              FATAL              NaN   \n",
       "6300                                              FATAL              NaN   \n",
       "6301  FATAL. \"Shark bit him in half, carrying away t...              NaN   \n",
       "\n",
       "     Fatal (Y/N)                 Investigator or Source  \\\n",
       "0              N                       R. Collier, GSAF   \n",
       "1              N         K.McMurray, TrackingSharks.com   \n",
       "2              N         K.McMurray, TrackingSharks.com   \n",
       "3              N                         B. Myatt, GSAF   \n",
       "4              N                              A .Kipper   \n",
       "...          ...                                    ...   \n",
       "6297           Y       H. Taunton; N. Bartlett,  p. 234   \n",
       "6298           Y  H. Taunton; N. Bartlett,  pp. 233-234   \n",
       "6299           Y   F. Schwartz, p.23; C. Creswell, GSAF   \n",
       "6300           Y                    The Sun, 10/20/1938   \n",
       "6301           Y                             S.W. Baker   \n",
       "\n",
       "                                 pdf  \\\n",
       "0               2018.06.25-Wolfe.pdf   \n",
       "1             2018.06.18-McNeely.pdf   \n",
       "2              2018.06.09-Denges.pdf   \n",
       "3           2018.06.08-Arrawarra.pdf   \n",
       "4               2018.06.04-Ramos.pdf   \n",
       "...                              ...   \n",
       "6297          ND-0005-RoebuckBay.pdf   \n",
       "6298               ND-0004-Ahmun.pdf   \n",
       "6299  ND-0003-Ocracoke_1900-1905.pdf   \n",
       "6300      ND-0002-JulesPatterson.pdf   \n",
       "6301              ND-0001-Ceylon.pdf   \n",
       "\n",
       "                                           href formula  \\\n",
       "0     http://sharkattackfile.net/spreadsheets/pdf_di...   \n",
       "1     http://sharkattackfile.net/spreadsheets/pdf_di...   \n",
       "2     http://sharkattackfile.net/spreadsheets/pdf_di...   \n",
       "3     http://sharkattackfile.net/spreadsheets/pdf_di...   \n",
       "4     http://sharkattackfile.net/spreadsheets/pdf_di...   \n",
       "...                                                 ...   \n",
       "6297  http://sharkattackfile.net/spreadsheets/pdf_di...   \n",
       "6298  http://sharkattackfile.net/spreadsheets/pdf_di...   \n",
       "6299  http://sharkattackfile.net/spreadsheets/pdf_di...   \n",
       "6300  http://sharkattackfile.net/spreadsheets/pdf_di...   \n",
       "6301  http://sharkattackfile.net/spreadsheets/pdf_di...   \n",
       "\n",
       "                                                   href  original order  \n",
       "0     http://sharkattackfile.net/spreadsheets/pdf_di...          6303.0  \n",
       "1     http://sharkattackfile.net/spreadsheets/pdf_di...          6302.0  \n",
       "2     http://sharkattackfile.net/spreadsheets/pdf_di...          6301.0  \n",
       "3     http://sharkattackfile.net/spreadsheets/pdf_di...          6300.0  \n",
       "4     http://sharkattackfile.net/spreadsheets/pdf_di...          6299.0  \n",
       "...                                                 ...             ...  \n",
       "6297  http://sharkattackfile.net/spreadsheets/pdf_di...             6.0  \n",
       "6298  http://sharkattackfile.net/spreadsheets/pdf_di...             5.0  \n",
       "6299  http://sharkattackfile.net/spreadsheets/pdf_di...             4.0  \n",
       "6300  http://sharkattackfile.net/spreadsheets/pdf_di...             3.0  \n",
       "6301  http://sharkattackfile.net/spreadsheets/pdf_di...             2.0  \n",
       "\n",
       "[6302 rows x 22 columns]"
      ]
     },
     "execution_count": 24,
     "metadata": {},
     "output_type": "execute_result"
    }
   ],
   "source": [
    "nuevo_orden = ['Case Number','Case Number.1','Case Number.2', 'Date', 'Year','Time','Country', 'Area', 'Location', 'Type','Name', 'Sex', 'Age','Activity','Injury','Species', 'Fatal (Y/N)', 'Investigator or Source', 'pdf', 'href formula', 'href','original order']\n",
    "                                         \n",
    "sharks = sharks.reindex(columns=nuevo_orden)       # aquí reordeno las columnas para que tengan más sentido                                 \n",
    "\n",
    "sharks                          \n",
    "                    "
   ]
  },
  {
   "cell_type": "markdown",
   "id": "f0e79278",
   "metadata": {},
   "source": [
    "## Limpieza por columnas: 'Date':"
   ]
  },
  {
   "cell_type": "code",
   "execution_count": 25,
   "id": "bc30b990",
   "metadata": {},
   "outputs": [
    {
     "data": {
      "text/plain": [
       "array(['25-Jun-2018', '18-Jun-2018', '09-Jun-2018', ..., '1900-1905',\n",
       "       '1883-1889', '1845-1853'], dtype=object)"
      ]
     },
     "execution_count": 25,
     "metadata": {},
     "output_type": "execute_result"
    }
   ],
   "source": [
    "sharks.Date.unique()"
   ]
  },
  {
   "cell_type": "markdown",
   "id": "93ec1acd",
   "metadata": {},
   "source": [
    "## **Limpieza por columnas: 'Year'**\n",
    "Observamos que los datos están en tipo float, así que los cambiamos a entero.\n",
    "Vemos que en muchos casos el año es 0 así que se extrae de la columna Date el año."
   ]
  },
  {
   "cell_type": "code",
   "execution_count": 26,
   "id": "cd502056",
   "metadata": {},
   "outputs": [],
   "source": [
    "# vamos a transformar el tipo de dato en 'Year' y en 'original order' a entero\n",
    "sharks['original order'] = pd.to_numeric(sharks['original order'].astype('int')) \n",
    "\n",
    "sharks['Year'].fillna(0.0, inplace = True)  # no nos deja sin antes convertir los NaN a 0 ya que en algunas filas el año es 0.0\n",
    "sharks['Year'] = pd.to_numeric(sharks['Year'].astype('int'))\n",
    "\n",
    "# Ahora vamos a intentar cambiar los valores 0 de Year por el año que aparece en la fila correspondiente en Date\n",
    "\n",
    "patron4d = r'(\\d{4})' # expresion regular para buscar un patron de 4 digitos seguidos (año)\n",
    "\n",
    "sharks['Year'] = sharks.apply(lambda row: int(re.search(patron4d, row['Date']).group(1)) if row['Year'] == 0 and re.search(patron4d, row['Date']) else row['Year'], axis=1)\n",
    "\n",
    "                                              # aqui buscamos el patron en cada fila de Date y                 \n",
    "                                              # devuelve el primer grupo que encuentre\n"
   ]
  },
  {
   "cell_type": "markdown",
   "id": "67c9fc3a",
   "metadata": {},
   "source": [
    "## Limpieza por columnas: 'Time':\n",
    "Para poder utilizar esta columna en el análisis posterior, vamos a tratar de unificar las horas en cuatro categorías: morning, afternoon, evening y night."
   ]
  },
  {
   "cell_type": "code",
   "execution_count": 27,
   "id": "69a37548",
   "metadata": {},
   "outputs": [
    {
     "data": {
      "text/plain": [
       "array(['18h00', '14h00  -15h00', '07h45', nan, 'Late afternoon', '17h00',\n",
       "       '14h00', 'Morning', '15h00', '08h15', '11h00', '10h30', '10h40',\n",
       "       '16h50', '07h00', '09h30', 'Afternoon', '21h50', '09h40', '08h00',\n",
       "       '17h35', '15h30', '07h30', '19h00, Dusk', 'Night', '16h00',\n",
       "       '15h01', '12h00', '13h45', '23h30', '09h00', '14h30', '18h30',\n",
       "       '12h30', '16h30', '18h45', '06h00', '10h00', '10h44', '13h19',\n",
       "       'Midday', '13h30', '10h45', '11h20', '11h45', '19h30', '08h30',\n",
       "       '15h45', 'Shortly before 12h00', '17h34', '17h10', '11h15',\n",
       "       '08h50', '17h45', '13h00', '10h20', '13h20', '02h00', '09h50',\n",
       "       '11h30', '17h30', '9h00', '10h43', 'After noon', '15h15', '15h40',\n",
       "       '19h05', '1300', '14h30 / 15h30', '22h00', '16h20', '14h34',\n",
       "       '15h25', '14h55', '17h46', 'Morning ', '15h49', '19h00',\n",
       "       'Midnight', '09h30 / 10h00', '10h15', '18h15', '04h00', '14h50',\n",
       "       '13h50', '19h20', '10h25', '10h45-11h15', '16h45', '15h52',\n",
       "       '06h15', '14h40', '19h45', '10h10', '08h45', 'Evening', '12h10',\n",
       "       '18h05', '11h41', '12h25', '17h51', '16h12', '12h45', '10h50',\n",
       "       '14h15', '09h45', '06h45', '05h00', '03h30',\n",
       "       'Sometime between 06h00 & 08hoo', '06h30', '17h20', '20h00',\n",
       "       '16h40', '16h18', '11h10', 'Early afternoon', '17h50',\n",
       "       '07h00 - 08h00', '18h15-18h30', '17h01', '09h57', '08h20', '17h58',\n",
       "       '20h30', '15h19', '10h55', '15h55', '23h00', '12h40', '13h55',\n",
       "       '16h05', '14h10', '15h20', '12h50', '14h45', '13h40', '13h24',\n",
       "       '09h00 - 09h30', '0830', '11h40', '08h10', '15h56', '14h20',\n",
       "       'Just before noon', '07h56', '1600', '17h17', '16h35', '09h05',\n",
       "       '07h15', '07h20', '19h28', '12h38', '05h50', '15h50', '11h05',\n",
       "       'Early morning', 'Dawn', '05h45', '13h25', '12h20', '13h26',\n",
       "       '09h11', '12h15', '13h15', '18h20', '15h35', 'AM', '13h51', 'A.M.',\n",
       "       '08h05', '19h15', '10h35', '15h44', 'Dusk', '21h00', 'Lunchtime',\n",
       "       '15j45', '09h35', '10h27', '10h16', '0500', 'Before 07h00',\n",
       "       '09h20', '10h00 -- 11h00', '12h05', '14h21', '18h50', '15h53',\n",
       "       '\"Just before 11h00\"', '11h115', '13h42', '20h15', '12h39',\n",
       "       '07h05', 'Sunset', '  ', '13h05', '11h50', '\"Evening\"',\n",
       "       'Just before sundown', '17h55', '22h30', '17h15', '16h10',\n",
       "       '11h30 ', '06h10', '16h15', 'Between 05h00 and 08h00', '07h08',\n",
       "       '17h00 or 17h40', '03h00', '>08h00', '--', '12h02', '12h55',\n",
       "       '16h14', '17h11', '00h30', '14h37', '10h07', '13h53', '11h55',\n",
       "       '13h23', 'Just after 12h00', '02h30', '08h40', '11h56', '14h35',\n",
       "       ' ', 'Early Morning', '07h50', 'Shortly after midnight', '14h25',\n",
       "       '13h345', '\\xa0 ', '06h47', '09h00 -10h00', '20h45 (Sunset)',\n",
       "       'Late morning', 'P.M.', '18h40', '13h14', '13h06',\n",
       "       'Shortly before 13h00', '12h34', '11h53', '8:04 pm', '12h46',\n",
       "       '12h48', '17h42', '12h35', 'Possibly same incident as 2000.08.21',\n",
       "       'After Dusk', '11h57', 'Noon', '17h40', '11h25', '18h25', '10h28',\n",
       "       '09h15', '14h16', '09h55', '2 hours after Opperman', '15h05',\n",
       "       '09h30 ', 'Mid afternoon', 'Mid morning', '11h48', '11h00 / 11h30',\n",
       "       '07h19', '13h37', '11h06', '\"Night\"', '18h30?', '11h58', '11h51',\n",
       "       '18h12', '07h10', '07h40', '12h33',\n",
       "       '30 minutes after 1992.07.08.a', '>06h45', '15h06', '12h54',\n",
       "       'Between 06h00 & 07h20', '16h55', '05h40', '<07h30', '21h30',\n",
       "       '17h00 Sunset', 'Nightfall', 'X', '08h57', '18h30 (Sunset)',\n",
       "       '06j00', '08h35', '10h22', '02h45', 'Prior to 10h37', 'Daybreak',\n",
       "       '18h10', '>12h00', 'Mid-morning', '08h55', '16h30 or 18h00',\n",
       "       'Just before dawn', ' 14h00', 'Daytime', '06h50', '01h00', 'Dark',\n",
       "       '10h00 / 11h00', '\"After lunch\"', '07h32', '15h00 or 15h45',\n",
       "       '>17h00', '19h00 / 20h00', '12h45 / 13h45', '14h00 - 15h00',\n",
       "       'night', '03h45 - 04h00', '13h10', '09h30 / 15h30',\n",
       "       '08h00 / 09h30', '19h35', '12h00 to 14h00', '13h35', 'Late night',\n",
       "       '01h32', '10h30 or 13h30', '16h23', '15h00j', 'Midday.',\n",
       "       '\"After dark\"', '10h00 or 14h00', '19h10', '16h25',\n",
       "       '2 hrs before sunset', '18h15 to 21h30', '1500',\n",
       "       '\"shortly before dusk\"', '>17h30', '>14h30',\n",
       "       'Between 11h00 & 12h00', 'After 04h00',\n",
       "       '11h01 -time of ship sinking', 'Ship aban-doned at 03h10', '19h55',\n",
       "       'After dusk',\n",
       "       'FATAL  (Wire netting installed at local beaches after this incident.)',\n",
       "       '01h30', 'After midnight', 'Late afternon', '05h30', '08h58',\n",
       "       '\"Early evening\"', 'Late Afternoon', '   ', 'Before daybreak',\n",
       "       'dusk', 'Before 10h30', '06h00 -- 07h00', '01h50', '17h00-18h00',\n",
       "       '19h00-20h00'], dtype=object)"
      ]
     },
     "execution_count": 27,
     "metadata": {},
     "output_type": "execute_result"
    }
   ],
   "source": [
    "sharks['Time'].unique()"
   ]
  },
  {
   "cell_type": "code",
   "execution_count": 28,
   "id": "76426582",
   "metadata": {},
   "outputs": [],
   "source": [
    "def horarios(hora):\n",
    "    if pd.notna(hora):\n",
    "        # Utilizamos una expresión regular para buscar un patrón al observar que muchas strings eran 'xxhyy'\n",
    "        patron = re.search(r'(\\d{1,2})h', hora)\n",
    "        if patron:\n",
    "            hora_numeros = int(patron.group(1))  # Extrae las horas, las convierte en int y devuelve el 1er valor\n",
    "            if 5 <= hora_numeros < 12:\n",
    "                return 'morning'\n",
    "            elif 12 <= hora_numeros < 17:            # Establecemos unas etiquetas para categorizar los horarios\n",
    "                return 'afternoon'\n",
    "            elif 17 <= hora_numeros < 22:\n",
    "                return 'evening'\n",
    "            elif hora_numeros >= 22 or hora_numeros < 5:\n",
    "                return 'night'\n",
    "        # Si no encuentra un patrón de hora, que nos devuelva la cadena original\n",
    "        return hora\n",
    "    return hora  # Quiero que mantenga los valores NaN sin cambios para trabajar sobre ellos luego\n",
    "\n",
    "\n",
    "sharks['Time'] = sharks['Time'].apply(horarios)\n"
   ]
  },
  {
   "cell_type": "code",
   "execution_count": 29,
   "id": "704bc857",
   "metadata": {},
   "outputs": [
    {
     "data": {
      "text/plain": [
       "array(['evening', 'afternoon', 'morning', nan, 'late afternoon', 'night',\n",
       "       'midday', 'after noon', '1300', 'morning ', 'midnight',\n",
       "       'early afternoon', '0830', 'just before noon', '1600',\n",
       "       'early morning', 'dawn', 'am', 'a.m.', 'dusk', 'lunchtime',\n",
       "       '15j45', '0500', 'sunset', '  ', '\"evening\"',\n",
       "       'just before sundown', '--', ' ', 'shortly after midnight',\n",
       "       '\\xa0 ', 'late morning', 'p.m.', '8:04 pm',\n",
       "       'possibly same incident as 2000.08.21', 'after dusk', 'noon',\n",
       "       '2 hours after opperman', 'mid afternoon', 'mid morning',\n",
       "       '\"night\"', '30 minutes after 1992.07.08.a', 'nightfall', 'x',\n",
       "       '06j00', 'daybreak', 'mid-morning', 'just before dawn', 'daytime',\n",
       "       'dark', '\"after lunch\"', 'late night', 'midday.', '\"after dark\"',\n",
       "       '2 hrs before sunset', '1500', '\"shortly before dusk\"',\n",
       "       'fatal  (wire netting installed at local beaches after this incident.)',\n",
       "       'after midnight', 'late afternon', '\"early evening\"', '   ',\n",
       "       'before daybreak'], dtype=object)"
      ]
     },
     "execution_count": 29,
     "metadata": {},
     "output_type": "execute_result"
    }
   ],
   "source": [
    "sharks['Time'] = sharks['Time'].str.lower()    # Transformamos todas las strings de 'Time' en minúsculas\n",
    "\n",
    "sharks['Time'].unique()"
   ]
  },
  {
   "cell_type": "code",
   "execution_count": 30,
   "id": "92ce5378",
   "metadata": {},
   "outputs": [
    {
     "data": {
      "text/plain": [
       "63"
      ]
     },
     "execution_count": 30,
     "metadata": {},
     "output_type": "execute_result"
    }
   ],
   "source": [
    "len(sharks['Time'].unique())"
   ]
  },
  {
   "cell_type": "code",
   "execution_count": 31,
   "id": "53976222",
   "metadata": {},
   "outputs": [
    {
     "data": {
      "text/plain": [
       "array(['evening', 'afternoon', 'morning', nan, 'lateafternoon', 'night',\n",
       "       'midday', '1300', 'midnight', 'earlyafternoon', '0830',\n",
       "       'justbeforenoon', '1600', 'earlymorning', 'dawn', 'am', 'a.m.',\n",
       "       'dusk', 'lunchtime', '15j45', '0500', 'sunset', '', '\"evening\"',\n",
       "       'justbeforesundown', '--', 'shortlyaftermidnight', '\\xa0',\n",
       "       'latemorning', 'p.m.', '8:04pm',\n",
       "       'possiblysameincidentas2000.08.21', 'afterdusk', 'noon',\n",
       "       '2hoursafteropperman', 'midafternoon', 'midmorning', '\"night\"',\n",
       "       '30minutesafter1992.07.08.a', 'nightfall', 'x', '06j00',\n",
       "       'daybreak', 'mid-morning', 'justbeforedawn', 'daytime', 'dark',\n",
       "       '\"afterlunch\"', 'latenight', 'midday.', '\"afterdark\"',\n",
       "       '2hrsbeforesunset', '1500', '\"shortlybeforedusk\"',\n",
       "       'fatal(wirenettinginstalledatlocalbeachesafterthisincident.)',\n",
       "       'aftermidnight', 'lateafternon', '\"earlyevening\"',\n",
       "       'beforedaybreak'], dtype=object)"
      ]
     },
     "execution_count": 31,
     "metadata": {},
     "output_type": "execute_result"
    }
   ],
   "source": [
    "# Ahora vamos a eliminar los espacios:\n",
    "\n",
    "sharks['Time'] = sharks['Time'].str.replace(' ', '')\n",
    "sharks['Time'].unique()"
   ]
  },
  {
   "cell_type": "code",
   "execution_count": 32,
   "id": "5b9c0230",
   "metadata": {},
   "outputs": [],
   "source": [
    "def etiquetar(cadena):\n",
    "    if isinstance(cadena, str):\n",
    "            # Usamos una expresión regular para encontrar los dos primeros números\n",
    "        patron = re.search(r'\\d{2}', cadena)\n",
    "        if patron:\n",
    "            hora = int(patron.group())  # Convertimos los dos números encontrados en un entero\n",
    "            if 5 <= hora < 12:\n",
    "                return 'morning'\n",
    "            elif 12 <= hora < 17:\n",
    "                return 'afternoon'\n",
    "            elif 17 <= hora < 22:\n",
    "                return 'evening'\n",
    "            else:\n",
    "                return 'night'\n",
    "        else:\n",
    "            return cadena"
   ]
  },
  {
   "cell_type": "code",
   "execution_count": 33,
   "id": "04c04a3e",
   "metadata": {},
   "outputs": [
    {
     "data": {
      "text/plain": [
       "array(['evening', 'afternoon', 'morning', None, 'lateafternoon', 'night',\n",
       "       'midday', 'midnight', 'earlyafternoon', 'justbeforenoon',\n",
       "       'earlymorning', 'dawn', 'am', 'a.m.', 'dusk', 'lunchtime',\n",
       "       'sunset', '', '\"evening\"', 'justbeforesundown', '--',\n",
       "       'shortlyaftermidnight', '\\xa0', 'latemorning', 'p.m.', 'afterdusk',\n",
       "       'noon', '2hoursafteropperman', 'midafternoon', 'midmorning',\n",
       "       '\"night\"', 'nightfall', 'x', 'daybreak', 'mid-morning',\n",
       "       'justbeforedawn', 'daytime', 'dark', '\"afterlunch\"', 'latenight',\n",
       "       'midday.', '\"afterdark\"', '2hrsbeforesunset',\n",
       "       '\"shortlybeforedusk\"',\n",
       "       'fatal(wirenettinginstalledatlocalbeachesafterthisincident.)',\n",
       "       'aftermidnight', 'lateafternon', '\"earlyevening\"',\n",
       "       'beforedaybreak'], dtype=object)"
      ]
     },
     "execution_count": 33,
     "metadata": {},
     "output_type": "execute_result"
    }
   ],
   "source": [
    "sharks['Time'] = sharks['Time'].apply(etiquetar)\n",
    "sharks['Time'].unique()"
   ]
  },
  {
   "cell_type": "code",
   "execution_count": 34,
   "id": "fdda919b",
   "metadata": {},
   "outputs": [],
   "source": [
    "# Aquí vamos a crear una función para intentar categorizar por horarios:\n",
    "\n",
    "def reemplazar(time):\n",
    "    if pd.notna(time):    \n",
    "        if re.search(r'noon|lunch|break|aftern|midd', time):     #utilizamos regex para buscar coincidencias\n",
    "            return 'afternoon'\n",
    "        elif re.search(r'night|dark|dusk|even', time):\n",
    "            return 'night'\n",
    "        elif re.search(r'morn|am|break|a.m.', time):\n",
    "            return 'morning'\n",
    "        elif re.search(r'suns|am|break|p.m.', time):\n",
    "            return 'evening'\n",
    "        else:\n",
    "            return 'unknown'\n",
    "    else:\n",
    "        return 'unknown'"
   ]
  },
  {
   "cell_type": "code",
   "execution_count": 35,
   "id": "2e44c919",
   "metadata": {},
   "outputs": [
    {
     "data": {
      "text/plain": [
       "array(['night', 'afternoon', 'morning', 'unknown', 'evening'],\n",
       "      dtype=object)"
      ]
     },
     "execution_count": 35,
     "metadata": {},
     "output_type": "execute_result"
    }
   ],
   "source": [
    "sharks['Time'] = sharks['Time'].apply(reemplazar)\n",
    "sharks['Time'].unique()"
   ]
  },
  {
   "cell_type": "code",
   "execution_count": 36,
   "id": "7617085e",
   "metadata": {},
   "outputs": [
    {
     "data": {
      "text/plain": [
       "5"
      ]
     },
     "execution_count": 36,
     "metadata": {},
     "output_type": "execute_result"
    }
   ],
   "source": [
    "len(sharks['Time'].unique())"
   ]
  },
  {
   "cell_type": "code",
   "execution_count": 37,
   "id": "ccdc72b9",
   "metadata": {},
   "outputs": [
    {
     "data": {
      "text/plain": [
       "unknown      3372\n",
       "afternoon    1377\n",
       "morning       942\n",
       "night         594\n",
       "evening        17\n",
       "Name: Time, dtype: int64"
      ]
     },
     "execution_count": 37,
     "metadata": {},
     "output_type": "execute_result"
    }
   ],
   "source": [
    "sharks['Time'].value_counts()  # Decisiones: el análisis se va a centrar en 'Time', borramos los 'unknown'"
   ]
  },
  {
   "cell_type": "code",
   "execution_count": 38,
   "id": "f9dea1b3",
   "metadata": {},
   "outputs": [],
   "source": [
    "sharks = sharks.drop(sharks[sharks['Time'] == 'unknown'].index)                "
   ]
  },
  {
   "cell_type": "markdown",
   "id": "4f84f3bf",
   "metadata": {},
   "source": [
    "## Limpieza por columnas: 'Species':"
   ]
  },
  {
   "cell_type": "code",
   "execution_count": 39,
   "id": "29cd78cb",
   "metadata": {},
   "outputs": [
    {
     "data": {
      "text/plain": [
       "Country                      7\n",
       "Area                        72\n",
       "Location                    68\n",
       "Type                         1\n",
       "Name                        29\n",
       "Sex                        104\n",
       "Age                        588\n",
       "Activity                    66\n",
       "Injury                       6\n",
       "Species                   1034\n",
       "Fatal (Y/N)                144\n",
       "Investigator or Source       5\n",
       "dtype: int64"
      ]
     },
     "execution_count": 39,
     "metadata": {},
     "output_type": "execute_result"
    }
   ],
   "source": [
    "nan_cols = sharks.isna().sum()     # Ahora vamos a centrarnos en limpiar el resto de nulos\n",
    "\n",
    "nan_cols[nan_cols>0]"
   ]
  },
  {
   "cell_type": "code",
   "execution_count": 40,
   "id": "5831f414",
   "metadata": {},
   "outputs": [],
   "source": [
    "sharks['Species'].fillna('unknown', inplace = True)  #Se decide sustituir los nulos por 'unknown'"
   ]
  },
  {
   "cell_type": "markdown",
   "id": "bf921f9a",
   "metadata": {},
   "source": [
    "## Limpieza por columnas: 'Age':\n",
    "Tras observar los valores únicos de la columna 'Age', realizamos una función que nos devuelva números enteros, que elimine los caracteres que no sean numéricos y que, en caso de haber más de un grupo de números, se quede con el primero. Puesto que los datos existentes son los siguientes, se decide convertir a nulos los que no sean números para luego valorar qué haremos con ellos."
   ]
  },
  {
   "cell_type": "code",
   "execution_count": 41,
   "id": "752e8af7",
   "metadata": {},
   "outputs": [
    {
     "data": {
      "text/plain": [
       "\"array([57, 11, 48, 18, 15, 12, 32, 10, 21, nan, 30, 60, 33, 37, 19, 25, 69, 55, 34, 35, \\n       40, 20, 54, 14, 22, 31, 17, 28, 42, 3, 13, 50, 46, 82, 41, 51, 39, 58, 26, 'Teen', \\n       47, 16, 61, 65, 73, 36, 66, 29, 43,49, 9, 59, 6, 27, 64, 23, 52, 24, 45, 71, 44, \\n       7, 62, 38, 68, 63, 70, 53, 8, 'teen', 77, 74, 56, 5, 86, 84, '\\xa0 ', ' ', 67, 75, \\n       '(adult)', 'MAKE LINE GREEN', 'F', '  ']\""
      ]
     },
     "execution_count": 41,
     "metadata": {},
     "output_type": "execute_result"
    }
   ],
   "source": [
    "'''array([57, 11, 48, 18, 15, 12, 32, 10, 21, nan, 30, 60, 33, 37, 19, 25, 69, 55, 34, 35, \n",
    "       40, 20, 54, 14, 22, 31, 17, 28, 42, 3, 13, 50, 46, 82, 41, 51, 39, 58, 26, 'Teen', \n",
    "       47, 16, 61, 65, 73, 36, 66, 29, 43,49, 9, 59, 6, 27, 64, 23, 52, 24, 45, 71, 44, \n",
    "       7, 62, 38, 68, 63, 70, 53, 8, 'teen', 77, 74, 56, 5, 86, 84, '\\xa0 ', ' ', 67, 75, \n",
    "       '(adult)', 'MAKE LINE GREEN', 'F', '  ']'''"
   ]
  },
  {
   "cell_type": "code",
   "execution_count": 42,
   "id": "a9bc048d",
   "metadata": {},
   "outputs": [
    {
     "data": {
      "text/plain": [
       "array([57., 11., 48., 18., 15., 12., 32., 10., 21., nan, 30., 60., 33.,\n",
       "       37., 19., 25., 69., 55., 34., 35., 40., 20., 54., 14., 22., 31.,\n",
       "       17., 28., 42.,  3., 13., 50., 46., 82., 41., 51., 39., 58., 26.,\n",
       "       47., 16., 61., 65., 73., 36., 66., 29., 43., 49.,  9., 59.,  6.,\n",
       "       27., 64., 23., 52., 24., 45., 71., 44.,  7., 62., 38., 68., 63.,\n",
       "       70., 53.,  8., 77., 74., 56.,  5., 86., 84., 67., 75.])"
      ]
     },
     "execution_count": 42,
     "metadata": {},
     "output_type": "execute_result"
    }
   ],
   "source": [
    "def edad(texto):\n",
    "    if pd.notna(texto):\n",
    "        numeros = re.findall(r'\\d+', str(texto))  # Convertimos a str para que pueda aplicarse la función de regex\n",
    "        if numeros:\n",
    "            return int(numeros[0])    # Convertimos de nuevo a entero y pedimos que devuelva el 1º\n",
    "    return None \n",
    "\n",
    "sharks['Age'] = sharks['Age'].apply(edad)\n",
    "sharks['Age'].unique()"
   ]
  },
  {
   "cell_type": "code",
   "execution_count": 43,
   "id": "6d706c5e",
   "metadata": {},
   "outputs": [
    {
     "data": {
      "image/png": "[encoded data removed]",
      "text/plain": [
       "<Figure size 640x480 with 1 Axes>"
      ]
     },
     "metadata": {},
     "output_type": "display_data"
    }
   ],
   "source": [
    "sharks[['Age']].boxplot();"
   ]
  },
  {
   "cell_type": "code",
   "execution_count": 44,
   "id": "3ba8947c",
   "metadata": {},
   "outputs": [
    {
     "data": {
      "text/plain": [
       "'N nan cols: 10'"
      ]
     },
     "metadata": {},
     "output_type": "display_data"
    },
    {
     "data": {
      "text/plain": [
       "Country                   0.238908\n",
       "Area                      2.457338\n",
       "Location                  2.320819\n",
       "Type                      0.034130\n",
       "Name                      0.989761\n",
       "Sex                       3.549488\n",
       "Activity                  2.252560\n",
       "Injury                    0.204778\n",
       "Fatal (Y/N)               4.914676\n",
       "Investigator or Source    0.170648\n",
       "dtype: float64"
      ]
     },
     "metadata": {},
     "output_type": "display_data"
    },
    {
     "data": {
      "image/png": "[encoded data removed]",
      "text/plain": [
       "<Figure size 1000x600 with 1 Axes>"
      ]
     },
     "metadata": {},
     "output_type": "display_data"
    }
   ],
   "source": [
    "sharks['Age'].fillna(sharks['Age'].mode().iloc[0], inplace=True) # Se toma la decision de convertir los nulos en\n",
    "                                                                 # la moda de los valores, para intentar no modificar\n",
    "                                                                 # demasiado la descripción estadística.\n",
    "\n",
    "check_nan(sharks)     # Aquí vemos cómo va quedando la limpieza de nulos"
   ]
  },
  {
   "cell_type": "code",
   "execution_count": 45,
   "id": "82093ea5",
   "metadata": {},
   "outputs": [],
   "source": [
    " # Por alguna razón se han obtenido valores float, así que vamos a convertir en enteros\n",
    "    \n",
    "sharks['Age'] = pd.to_numeric(sharks['Age'].astype('int'))\n"
   ]
  },
  {
   "cell_type": "code",
   "execution_count": 46,
   "id": "339bd28b",
   "metadata": {},
   "outputs": [
    {
     "data": {
      "text/plain": [
       "Country                     7\n",
       "Area                       72\n",
       "Location                   68\n",
       "Type                        1\n",
       "Name                       29\n",
       "Sex                       104\n",
       "Activity                   66\n",
       "Injury                      6\n",
       "Fatal (Y/N)               144\n",
       "Investigator or Source      5\n",
       "dtype: int64"
      ]
     },
     "execution_count": 46,
     "metadata": {},
     "output_type": "execute_result"
    }
   ],
   "source": [
    "nan_cols = sharks.isna().sum()\n",
    "\n",
    "nan_cols[nan_cols>0]"
   ]
  },
  {
   "cell_type": "markdown",
   "id": "53a15a0d",
   "metadata": {},
   "source": [
    "## Limpieza por columnas: 'Sex'"
   ]
  },
  {
   "cell_type": "code",
   "execution_count": 47,
   "id": "7e99ee18",
   "metadata": {},
   "outputs": [
    {
     "data": {
      "text/plain": [
       "array(['F', 'M', nan, 'lli'], dtype=object)"
      ]
     },
     "execution_count": 47,
     "metadata": {},
     "output_type": "execute_result"
    }
   ],
   "source": [
    "# Se detecta que en la columna de indice 1065 hay una cadena de texto en la columna sex que pone 'lli'\n",
    "\n",
    "sharks.loc[1065, 'Sex'] = 'M'\n",
    "\n",
    "# Se detecta también un espacio detrás de una cadena\n",
    "\n",
    "sharks['Sex'] = sharks['Sex'].str.replace('M ', 'M')\n",
    "sharks.Sex.unique()"
   ]
  },
  {
   "cell_type": "markdown",
   "id": "d9afdae5",
   "metadata": {},
   "source": [
    "## Limpieza por columnas: 'Fatal (Y/N)':\n",
    "Unificamos los valores de esta columna, para que queden en Y, N o UNKNOWN\n"
   ]
  },
  {
   "cell_type": "code",
   "execution_count": 48,
   "id": "ac068fe4",
   "metadata": {},
   "outputs": [
    {
     "data": {
      "text/plain": [
       "array(['N', 'Y', nan, 'M', '2017', 'UNKNOWN', ' N'], dtype=object)"
      ]
     },
     "execution_count": 48,
     "metadata": {},
     "output_type": "execute_result"
    }
   ],
   "source": [
    "sharks['Fatal (Y/N)'].unique()"
   ]
  },
  {
   "cell_type": "code",
   "execution_count": 49,
   "id": "1cf2c564",
   "metadata": {},
   "outputs": [
    {
     "data": {
      "text/html": [
       "<div>\n",
       "<style scoped>\n",
       "    .dataframe tbody tr th:only-of-type {\n",
       "        vertical-align: middle;\n",
       "    }\n",
       "\n",
       "    .dataframe tbody tr th {\n",
       "        vertical-align: top;\n",
       "    }\n",
       "\n",
       "    .dataframe thead th {\n",
       "        text-align: right;\n",
       "    }\n",
       "</style>\n",
       "<table border=\"1\" class=\"dataframe\">\n",
       "  <thead>\n",
       "    <tr style=\"text-align: right;\">\n",
       "      <th></th>\n",
       "      <th>Case Number</th>\n",
       "      <th>Case Number.1</th>\n",
       "      <th>Case Number.2</th>\n",
       "      <th>Date</th>\n",
       "      <th>Year</th>\n",
       "      <th>Time</th>\n",
       "      <th>Country</th>\n",
       "      <th>Area</th>\n",
       "      <th>Location</th>\n",
       "      <th>Type</th>\n",
       "      <th>Name</th>\n",
       "      <th>Sex</th>\n",
       "      <th>Age</th>\n",
       "      <th>Activity</th>\n",
       "      <th>Injury</th>\n",
       "      <th>Species</th>\n",
       "      <th>Fatal (Y/N)</th>\n",
       "      <th>Investigator or Source</th>\n",
       "      <th>pdf</th>\n",
       "      <th>href formula</th>\n",
       "      <th>href</th>\n",
       "      <th>original order</th>\n",
       "    </tr>\n",
       "  </thead>\n",
       "  <tbody>\n",
       "    <tr>\n",
       "      <th>285</th>\n",
       "      <td>2016.04.18.b</td>\n",
       "      <td>2016.04.18.b</td>\n",
       "      <td>2016.04.18.b</td>\n",
       "      <td>18-Apr-2016</td>\n",
       "      <td>2016.0</td>\n",
       "      <td>morning</td>\n",
       "      <td>FRENCH POLYNESIA</td>\n",
       "      <td>Tuamotos</td>\n",
       "      <td>Makemo Atoll</td>\n",
       "      <td>Provoked</td>\n",
       "      <td>Hoata Iotua</td>\n",
       "      <td>M</td>\n",
       "      <td>22.0</td>\n",
       "      <td>Spearfishing</td>\n",
       "      <td>Laceration to knee by speared shark PROVOKED I...</td>\n",
       "      <td>Grey reef shark, 2 m</td>\n",
       "      <td>M</td>\n",
       "      <td>TNTV News, 4/19/2016</td>\n",
       "      <td>2016.04.18.b-Iotua.pdf</td>\n",
       "      <td>http://sharkattackfile.net/spreadsheets/pdf_di...</td>\n",
       "      <td>http://sharkattackfile.net/spreadsheets/pdf_di...</td>\n",
       "      <td>6018.0</td>\n",
       "    </tr>\n",
       "  </tbody>\n",
       "</table>\n",
       "</div>"
      ],
      "text/plain": [
       "      Case Number Case Number.1 Case Number.2         Date    Year     Time  \\\n",
       "285  2016.04.18.b  2016.04.18.b  2016.04.18.b  18-Apr-2016  2016.0  morning   \n",
       "\n",
       "              Country      Area      Location      Type         Name Sex  \\\n",
       "285  FRENCH POLYNESIA  Tuamotos  Makemo Atoll  Provoked  Hoata Iotua   M   \n",
       "\n",
       "      Age      Activity                                             Injury  \\\n",
       "285  22.0  Spearfishing  Laceration to knee by speared shark PROVOKED I...   \n",
       "\n",
       "                  Species Fatal (Y/N) Investigator or Source  \\\n",
       "285  Grey reef shark, 2 m           M   TNTV News, 4/19/2016   \n",
       "\n",
       "                        pdf  \\\n",
       "285  2016.04.18.b-Iotua.pdf   \n",
       "\n",
       "                                          href formula  \\\n",
       "285  http://sharkattackfile.net/spreadsheets/pdf_di...   \n",
       "\n",
       "                                                  href  original order  \n",
       "285  http://sharkattackfile.net/spreadsheets/pdf_di...          6018.0  "
      ]
     },
     "execution_count": 49,
     "metadata": {},
     "output_type": "execute_result"
    }
   ],
   "source": [
    "sharks[sharks['Fatal (Y/N)'] == 'M']   # Accedemos a la fila donde el valor es M, lo convertimos en N tras consultar pdf."
   ]
  },
  {
   "cell_type": "code",
   "execution_count": 50,
   "id": "9fd38941",
   "metadata": {},
   "outputs": [],
   "source": [
    "sharks['Fatal (Y/N)'] = sharks['Fatal (Y/N)'].str.replace('M', 'N')"
   ]
  },
  {
   "cell_type": "code",
   "execution_count": 51,
   "id": "f8baf4e7",
   "metadata": {},
   "outputs": [
    {
     "data": {
      "text/html": [
       "<div>\n",
       "<style scoped>\n",
       "    .dataframe tbody tr th:only-of-type {\n",
       "        vertical-align: middle;\n",
       "    }\n",
       "\n",
       "    .dataframe tbody tr th {\n",
       "        vertical-align: top;\n",
       "    }\n",
       "\n",
       "    .dataframe thead th {\n",
       "        text-align: right;\n",
       "    }\n",
       "</style>\n",
       "<table border=\"1\" class=\"dataframe\">\n",
       "  <thead>\n",
       "    <tr style=\"text-align: right;\">\n",
       "      <th></th>\n",
       "      <th>Case Number</th>\n",
       "      <th>Case Number.1</th>\n",
       "      <th>Case Number.2</th>\n",
       "      <th>Date</th>\n",
       "      <th>Year</th>\n",
       "      <th>Time</th>\n",
       "      <th>Country</th>\n",
       "      <th>Area</th>\n",
       "      <th>Location</th>\n",
       "      <th>Type</th>\n",
       "      <th>Name</th>\n",
       "      <th>Sex</th>\n",
       "      <th>Age</th>\n",
       "      <th>Activity</th>\n",
       "      <th>Injury</th>\n",
       "      <th>Species</th>\n",
       "      <th>Fatal (Y/N)</th>\n",
       "      <th>Investigator or Source</th>\n",
       "      <th>pdf</th>\n",
       "      <th>href formula</th>\n",
       "      <th>href</th>\n",
       "      <th>original order</th>\n",
       "    </tr>\n",
       "  </thead>\n",
       "  <tbody>\n",
       "    <tr>\n",
       "      <th>786</th>\n",
       "      <td>2012.06.10</td>\n",
       "      <td>2012.06.10</td>\n",
       "      <td>2012.06.10</td>\n",
       "      <td>10-Jun-2012</td>\n",
       "      <td>2012.0</td>\n",
       "      <td>morning</td>\n",
       "      <td>ITALY</td>\n",
       "      <td>Sardinia</td>\n",
       "      <td>Muravera</td>\n",
       "      <td>Provoked</td>\n",
       "      <td>Giorgio Zara</td>\n",
       "      <td>M</td>\n",
       "      <td>57.0</td>\n",
       "      <td>Attempting to rescue an injured &amp; beached shark</td>\n",
       "      <td>Lower left leg injured PROVOKED ACCIDENT</td>\n",
       "      <td>Blue shark, 2.5m</td>\n",
       "      <td>2017</td>\n",
       "      <td>D. Puddo, 6/11/2012</td>\n",
       "      <td>2012.06.10-Zara.pdf</td>\n",
       "      <td>http://sharkattackfile.net/spreadsheets/pdf_di...</td>\n",
       "      <td>http://sharkattackfile.net/spreadsheets/pdf_di...</td>\n",
       "      <td>5517.0</td>\n",
       "    </tr>\n",
       "  </tbody>\n",
       "</table>\n",
       "</div>"
      ],
      "text/plain": [
       "    Case Number Case Number.1 Case Number.2         Date    Year     Time  \\\n",
       "786  2012.06.10    2012.06.10    2012.06.10  10-Jun-2012  2012.0  morning   \n",
       "\n",
       "    Country      Area  Location      Type          Name Sex   Age  \\\n",
       "786   ITALY  Sardinia  Muravera  Provoked  Giorgio Zara   M  57.0   \n",
       "\n",
       "                                            Activity  \\\n",
       "786  Attempting to rescue an injured & beached shark   \n",
       "\n",
       "                                       Injury           Species Fatal (Y/N)  \\\n",
       "786  Lower left leg injured PROVOKED ACCIDENT  Blue shark, 2.5m        2017   \n",
       "\n",
       "    Investigator or Source                  pdf  \\\n",
       "786    D. Puddo, 6/11/2012  2012.06.10-Zara.pdf   \n",
       "\n",
       "                                          href formula  \\\n",
       "786  http://sharkattackfile.net/spreadsheets/pdf_di...   \n",
       "\n",
       "                                                  href  original order  \n",
       "786  http://sharkattackfile.net/spreadsheets/pdf_di...          5517.0  "
      ]
     },
     "execution_count": 51,
     "metadata": {},
     "output_type": "execute_result"
    }
   ],
   "source": [
    "sharks[sharks['Fatal (Y/N)'] == '2017']"
   ]
  },
  {
   "cell_type": "code",
   "execution_count": 52,
   "id": "9b8033b1",
   "metadata": {},
   "outputs": [
    {
     "data": {
      "text/plain": [
       "array(['N', 'Y', nan, 'UNKNOWN'], dtype=object)"
      ]
     },
     "execution_count": 52,
     "metadata": {},
     "output_type": "execute_result"
    }
   ],
   "source": [
    "# Limpiamos el resto de datos de esa columna\n",
    "\n",
    "\n",
    "sharks['Fatal (Y/N)'] = sharks['Fatal (Y/N)'].str.replace('2017', 'UNKNOWN')\n",
    "sharks['Fatal (Y/N)'] = sharks['Fatal (Y/N)'].str.replace(' N', 'N')\n",
    "sharks['Fatal (Y/N)'].unique()"
   ]
  },
  {
   "cell_type": "markdown",
   "id": "70789a92",
   "metadata": {},
   "source": [
    "\n",
    "Se observa que en la columna Injury a veces se describe lo que corresponde a Fatal (Y/N). \n",
    "Primero convertimos a minúsculas los valores en Injury y luego aplicamos una función a Fatal (Y/N) \n",
    "para que ponga Y en Fatal si aparece esta palabra en la columna Injury\n"
   ]
  },
  {
   "cell_type": "code",
   "execution_count": 53,
   "id": "a8cdc6ac",
   "metadata": {},
   "outputs": [
    {
     "data": {
      "text/plain": [
       "array(['N', 'Y', nan, 'UNKNOWN'], dtype=object)"
      ]
     },
     "execution_count": 53,
     "metadata": {},
     "output_type": "execute_result"
    }
   ],
   "source": [
    "#sharks['Injury'] = sharks['Injury'].str.lower()    Intenté aplicar esto pero daba error\n",
    "\n",
    "def fatal(fila):\n",
    "    if pd.isna(fila['Fatal (Y/N)']) and pd.notna(fila['Injury']) and 'fatal' in str(fila['Injury']).lower():\n",
    "        return 'Y'\n",
    "    return fila['Fatal (Y/N)']     # Hubo que añadir la parte de en medio en lugar de pedirlo antes\n",
    "\n",
    "sharks['Fatal (Y/N)'] = sharks.apply(fatal, axis=1)\n",
    "sharks['Fatal (Y/N)'].unique()"
   ]
  },
  {
   "cell_type": "code",
   "execution_count": 54,
   "id": "27dcff76",
   "metadata": {},
   "outputs": [],
   "source": [
    " # Convertimos el resto de nulos en UNKNOWN\n",
    "\n",
    "sharks['Fatal (Y/N)'].fillna('UNKNOWN', inplace = True)"
   ]
  },
  {
   "cell_type": "code",
   "execution_count": 55,
   "id": "6442d9a6",
   "metadata": {},
   "outputs": [
    {
     "data": {
      "text/plain": [
       "'N nan cols: 21'"
      ]
     },
     "metadata": {},
     "output_type": "display_data"
    },
    {
     "data": {
      "text/plain": [
       "Case Number               0.034118\n",
       "Case Number.1             0.034118\n",
       "Case Number.2             0.034118\n",
       "Date                      0.034118\n",
       "Year                      0.034118\n",
       "Time                      0.034118\n",
       "Country                   0.272944\n",
       "Area                      2.490618\n",
       "Location                  2.354145\n",
       "Type                      0.068236\n",
       "Name                      1.023541\n",
       "Sex                       3.548277\n",
       "Age                       0.034118\n",
       "Activity                  2.285909\n",
       "Injury                    0.238826\n",
       "Species                   0.034118\n",
       "Investigator or Source    0.204708\n",
       "pdf                       0.034118\n",
       "href formula              0.034118\n",
       "href                      0.034118\n",
       "original order            0.034118\n",
       "dtype: float64"
      ]
     },
     "metadata": {},
     "output_type": "display_data"
    },
    {
     "data": {
      "image/png": "[encoded data removed]",
      "text/plain": [
       "<Figure size 1000x600 with 1 Axes>"
      ]
     },
     "metadata": {},
     "output_type": "display_data"
    }
   ],
   "source": [
    "check_nan(sharks) "
   ]
  },
  {
   "cell_type": "code",
   "execution_count": 56,
   "id": "f4f5449a",
   "metadata": {},
   "outputs": [
    {
     "data": {
      "text/html": [
       "<div>\n",
       "<style scoped>\n",
       "    .dataframe tbody tr th:only-of-type {\n",
       "        vertical-align: middle;\n",
       "    }\n",
       "\n",
       "    .dataframe tbody tr th {\n",
       "        vertical-align: top;\n",
       "    }\n",
       "\n",
       "    .dataframe thead th {\n",
       "        text-align: right;\n",
       "    }\n",
       "</style>\n",
       "<table border=\"1\" class=\"dataframe\">\n",
       "  <thead>\n",
       "    <tr style=\"text-align: right;\">\n",
       "      <th></th>\n",
       "      <th>Case Number</th>\n",
       "      <th>Case Number.1</th>\n",
       "      <th>Case Number.2</th>\n",
       "      <th>Date</th>\n",
       "      <th>Year</th>\n",
       "      <th>Time</th>\n",
       "      <th>Country</th>\n",
       "      <th>Area</th>\n",
       "      <th>Location</th>\n",
       "      <th>Type</th>\n",
       "      <th>Name</th>\n",
       "      <th>Sex</th>\n",
       "      <th>Age</th>\n",
       "      <th>Activity</th>\n",
       "      <th>Injury</th>\n",
       "      <th>Species</th>\n",
       "      <th>Fatal (Y/N)</th>\n",
       "      <th>Investigator or Source</th>\n",
       "      <th>pdf</th>\n",
       "      <th>href formula</th>\n",
       "      <th>href</th>\n",
       "      <th>original order</th>\n",
       "    </tr>\n",
       "  </thead>\n",
       "  <tbody>\n",
       "    <tr>\n",
       "      <th>0</th>\n",
       "      <td>2018.06.25</td>\n",
       "      <td>2018.06.25</td>\n",
       "      <td>2018.06.25</td>\n",
       "      <td>25-Jun-2018</td>\n",
       "      <td>2018.0</td>\n",
       "      <td>night</td>\n",
       "      <td>USA</td>\n",
       "      <td>California</td>\n",
       "      <td>Oceanside, San Diego County</td>\n",
       "      <td>Boating</td>\n",
       "      <td>Julie Wolfe</td>\n",
       "      <td>F</td>\n",
       "      <td>57.0</td>\n",
       "      <td>Paddling</td>\n",
       "      <td>No injury to occupant, outrigger canoe and pad...</td>\n",
       "      <td>White shark</td>\n",
       "      <td>N</td>\n",
       "      <td>R. Collier, GSAF</td>\n",
       "      <td>2018.06.25-Wolfe.pdf</td>\n",
       "      <td>http://sharkattackfile.net/spreadsheets/pdf_di...</td>\n",
       "      <td>http://sharkattackfile.net/spreadsheets/pdf_di...</td>\n",
       "      <td>6303.0</td>\n",
       "    </tr>\n",
       "    <tr>\n",
       "      <th>1</th>\n",
       "      <td>2018.06.18</td>\n",
       "      <td>2018.06.18</td>\n",
       "      <td>2018.06.18</td>\n",
       "      <td>18-Jun-2018</td>\n",
       "      <td>2018.0</td>\n",
       "      <td>afternoon</td>\n",
       "      <td>USA</td>\n",
       "      <td>Georgia</td>\n",
       "      <td>St. Simon Island, Glynn County</td>\n",
       "      <td>Unprovoked</td>\n",
       "      <td>Adyson McNeely</td>\n",
       "      <td>F</td>\n",
       "      <td>11.0</td>\n",
       "      <td>Standing</td>\n",
       "      <td>Minor injury to left thigh</td>\n",
       "      <td>unknown</td>\n",
       "      <td>N</td>\n",
       "      <td>K.McMurray, TrackingSharks.com</td>\n",
       "      <td>2018.06.18-McNeely.pdf</td>\n",
       "      <td>http://sharkattackfile.net/spreadsheets/pdf_di...</td>\n",
       "      <td>http://sharkattackfile.net/spreadsheets/pdf_di...</td>\n",
       "      <td>6302.0</td>\n",
       "    </tr>\n",
       "    <tr>\n",
       "      <th>2</th>\n",
       "      <td>2018.06.09</td>\n",
       "      <td>2018.06.09</td>\n",
       "      <td>2018.06.09</td>\n",
       "      <td>09-Jun-2018</td>\n",
       "      <td>2018.0</td>\n",
       "      <td>morning</td>\n",
       "      <td>USA</td>\n",
       "      <td>Hawaii</td>\n",
       "      <td>Habush, Oahu</td>\n",
       "      <td>Invalid</td>\n",
       "      <td>John Denges</td>\n",
       "      <td>M</td>\n",
       "      <td>48.0</td>\n",
       "      <td>Surfing</td>\n",
       "      <td>Injury to left lower leg from surfboard skeg</td>\n",
       "      <td>unknown</td>\n",
       "      <td>N</td>\n",
       "      <td>K.McMurray, TrackingSharks.com</td>\n",
       "      <td>2018.06.09-Denges.pdf</td>\n",
       "      <td>http://sharkattackfile.net/spreadsheets/pdf_di...</td>\n",
       "      <td>http://sharkattackfile.net/spreadsheets/pdf_di...</td>\n",
       "      <td>6301.0</td>\n",
       "    </tr>\n",
       "    <tr>\n",
       "      <th>6</th>\n",
       "      <td>2018.06.03.a</td>\n",
       "      <td>2018.06.03.a</td>\n",
       "      <td>2018.06.03.a</td>\n",
       "      <td>03-Jun-2018</td>\n",
       "      <td>2018.0</td>\n",
       "      <td>afternoon</td>\n",
       "      <td>BRAZIL</td>\n",
       "      <td>Pernambuco</td>\n",
       "      <td>Piedade Beach, Recife</td>\n",
       "      <td>Unprovoked</td>\n",
       "      <td>Jose Ernesto da Silva</td>\n",
       "      <td>M</td>\n",
       "      <td>18.0</td>\n",
       "      <td>Swimming</td>\n",
       "      <td>FATAL</td>\n",
       "      <td>Tiger shark</td>\n",
       "      <td>Y</td>\n",
       "      <td>Diario de Pernambuco, 6/4/2018</td>\n",
       "      <td>2018.06.03.a-daSilva.pdf</td>\n",
       "      <td>http://sharkattackfile.net/spreadsheets/pdf_di...</td>\n",
       "      <td>http://sharkattackfile.net/spreadsheets/pdf_di...</td>\n",
       "      <td>6297.0</td>\n",
       "    </tr>\n",
       "    <tr>\n",
       "      <th>8</th>\n",
       "      <td>2018.05.26.b</td>\n",
       "      <td>2018.05.26.b</td>\n",
       "      <td>2018.05.26.b</td>\n",
       "      <td>26-May-2018</td>\n",
       "      <td>2018.0</td>\n",
       "      <td>night</td>\n",
       "      <td>USA</td>\n",
       "      <td>Florida</td>\n",
       "      <td>Cocoa Beach, Brevard  County</td>\n",
       "      <td>Unprovoked</td>\n",
       "      <td>Cody High</td>\n",
       "      <td>M</td>\n",
       "      <td>15.0</td>\n",
       "      <td>Walking</td>\n",
       "      <td>Lower left leg bitten</td>\n",
       "      <td>Bull shark, 6'</td>\n",
       "      <td>N</td>\n",
       "      <td>K.McMurray, TrackingSharks.com</td>\n",
       "      <td>2018.05.26.b-High.pdf</td>\n",
       "      <td>http://sharkattackfile.net/spreadsheets/pdf_di...</td>\n",
       "      <td>http://sharkattackfile.net/spreadsheets/pdf_di...</td>\n",
       "      <td>6295.0</td>\n",
       "    </tr>\n",
       "    <tr>\n",
       "      <th>...</th>\n",
       "      <td>...</td>\n",
       "      <td>...</td>\n",
       "      <td>...</td>\n",
       "      <td>...</td>\n",
       "      <td>...</td>\n",
       "      <td>...</td>\n",
       "      <td>...</td>\n",
       "      <td>...</td>\n",
       "      <td>...</td>\n",
       "      <td>...</td>\n",
       "      <td>...</td>\n",
       "      <td>...</td>\n",
       "      <td>...</td>\n",
       "      <td>...</td>\n",
       "      <td>...</td>\n",
       "      <td>...</td>\n",
       "      <td>...</td>\n",
       "      <td>...</td>\n",
       "      <td>...</td>\n",
       "      <td>...</td>\n",
       "      <td>...</td>\n",
       "      <td>...</td>\n",
       "    </tr>\n",
       "    <tr>\n",
       "      <th>6160</th>\n",
       "      <td>1703.03.26</td>\n",
       "      <td>1703.03.26</td>\n",
       "      <td>1703.03.26</td>\n",
       "      <td>26-Mar-1703</td>\n",
       "      <td>1703.0</td>\n",
       "      <td>night</td>\n",
       "      <td>BARBADOS</td>\n",
       "      <td>Southwest coast</td>\n",
       "      <td>Carlisle Bay</td>\n",
       "      <td>Unprovoked</td>\n",
       "      <td>Samuel Jennings, a deserter from the British f...</td>\n",
       "      <td>M</td>\n",
       "      <td>19.0</td>\n",
       "      <td>Swimming</td>\n",
       "      <td>Hand and foot severely bitten, surgically ampu...</td>\n",
       "      <td>unknown</td>\n",
       "      <td>N</td>\n",
       "      <td>W.R.Cutter, Vol.1, p.252</td>\n",
       "      <td>1703.03.26-Jennings.pdf</td>\n",
       "      <td>http://sharkattackfile.net/spreadsheets/pdf_di...</td>\n",
       "      <td>http://sharkattackfile.net/spreadsheets/pdf_di...</td>\n",
       "      <td>143.0</td>\n",
       "    </tr>\n",
       "    <tr>\n",
       "      <th>6241</th>\n",
       "      <td>ND.0065</td>\n",
       "      <td>ND.0065</td>\n",
       "      <td>ND.0065</td>\n",
       "      <td>1960s</td>\n",
       "      <td>1960.0</td>\n",
       "      <td>afternoon</td>\n",
       "      <td>IRAQ</td>\n",
       "      <td>Basrah</td>\n",
       "      <td>Shatt-al-Arab River</td>\n",
       "      <td>Unprovoked</td>\n",
       "      <td>male</td>\n",
       "      <td>M</td>\n",
       "      <td>25.0</td>\n",
       "      <td>Fishing from a small boat &amp; put his hand in th...</td>\n",
       "      <td>Right hand severed</td>\n",
       "      <td>unknown</td>\n",
       "      <td>N</td>\n",
       "      <td>B.W. Coad &amp; L.A.J. Al-Hassan</td>\n",
       "      <td>ND-0065-deadfish.pdf</td>\n",
       "      <td>http://sharkattackfile.net/spreadsheets/pdf_di...</td>\n",
       "      <td>http://sharkattackfile.net/spreadsheets/pdf_di...</td>\n",
       "      <td>62.0</td>\n",
       "    </tr>\n",
       "    <tr>\n",
       "      <th>6242</th>\n",
       "      <td>ND.0064</td>\n",
       "      <td>ND.0064</td>\n",
       "      <td>ND.0064</td>\n",
       "      <td>1960s</td>\n",
       "      <td>1960.0</td>\n",
       "      <td>afternoon</td>\n",
       "      <td>IRAQ</td>\n",
       "      <td>Basrah</td>\n",
       "      <td>Shatt-al-Arab River</td>\n",
       "      <td>Unprovoked</td>\n",
       "      <td>male</td>\n",
       "      <td>M</td>\n",
       "      <td>6.0</td>\n",
       "      <td>Swimming naked near a date palm where many dat...</td>\n",
       "      <td>Arm severed</td>\n",
       "      <td>Bull shark</td>\n",
       "      <td>N</td>\n",
       "      <td>B.W. Coad &amp; L.A.J. Al-Hassan</td>\n",
       "      <td>ND-0064-Shatt-al-Arab.pdf</td>\n",
       "      <td>http://sharkattackfile.net/spreadsheets/pdf_di...</td>\n",
       "      <td>http://sharkattackfile.net/spreadsheets/pdf_di...</td>\n",
       "      <td>61.0</td>\n",
       "    </tr>\n",
       "    <tr>\n",
       "      <th>6243</th>\n",
       "      <td>ND.0063</td>\n",
       "      <td>ND.0063</td>\n",
       "      <td>ND.0063</td>\n",
       "      <td>1960s</td>\n",
       "      <td>1960.0</td>\n",
       "      <td>afternoon</td>\n",
       "      <td>IRAQ</td>\n",
       "      <td>Basrah</td>\n",
       "      <td>Shatt-al-Arab River near Abu al Khasib</td>\n",
       "      <td>Unprovoked</td>\n",
       "      <td>male</td>\n",
       "      <td>M</td>\n",
       "      <td>16.0</td>\n",
       "      <td>Swimming in section of river used for washing ...</td>\n",
       "      <td>Right leg lacerated &amp; surgically amputated</td>\n",
       "      <td>Bull shark</td>\n",
       "      <td>N</td>\n",
       "      <td>B.W. Coad &amp; L.A.J. Al-Hassan</td>\n",
       "      <td>ND-0063-Shatt-al-Arab.pdf</td>\n",
       "      <td>http://sharkattackfile.net/spreadsheets/pdf_di...</td>\n",
       "      <td>http://sharkattackfile.net/spreadsheets/pdf_di...</td>\n",
       "      <td>60.0</td>\n",
       "    </tr>\n",
       "    <tr>\n",
       "      <th>6265</th>\n",
       "      <td>ND.0038</td>\n",
       "      <td>ND.0038</td>\n",
       "      <td>ND.0038</td>\n",
       "      <td>1941-1942</td>\n",
       "      <td>1941.0</td>\n",
       "      <td>afternoon</td>\n",
       "      <td>IRAQ</td>\n",
       "      <td>Basrah</td>\n",
       "      <td>Shatt-el Arab River near a small boat stand</td>\n",
       "      <td>Unprovoked</td>\n",
       "      <td>male</td>\n",
       "      <td>M</td>\n",
       "      <td>13.0</td>\n",
       "      <td>Swimming</td>\n",
       "      <td>FATAL, left leg bitten with severe blood loss</td>\n",
       "      <td>Bull shark</td>\n",
       "      <td>Y</td>\n",
       "      <td>B.W. Coad &amp; L.A.J. Al-Hassan</td>\n",
       "      <td>ND-0038-Shatt-al-Arab.pdf</td>\n",
       "      <td>http://sharkattackfile.net/spreadsheets/pdf_di...</td>\n",
       "      <td>http://sharkattackfile.net/spreadsheets/pdf_di...</td>\n",
       "      <td>38.0</td>\n",
       "    </tr>\n",
       "  </tbody>\n",
       "</table>\n",
       "<p>2657 rows × 22 columns</p>\n",
       "</div>"
      ],
      "text/plain": [
       "       Case Number Case Number.1 Case Number.2         Date    Year  \\\n",
       "0       2018.06.25    2018.06.25    2018.06.25  25-Jun-2018  2018.0   \n",
       "1       2018.06.18    2018.06.18    2018.06.18  18-Jun-2018  2018.0   \n",
       "2       2018.06.09    2018.06.09    2018.06.09  09-Jun-2018  2018.0   \n",
       "6     2018.06.03.a  2018.06.03.a  2018.06.03.a  03-Jun-2018  2018.0   \n",
       "8     2018.05.26.b  2018.05.26.b  2018.05.26.b  26-May-2018  2018.0   \n",
       "...            ...           ...           ...          ...     ...   \n",
       "6160    1703.03.26    1703.03.26    1703.03.26  26-Mar-1703  1703.0   \n",
       "6241       ND.0065       ND.0065       ND.0065        1960s  1960.0   \n",
       "6242       ND.0064       ND.0064       ND.0064        1960s  1960.0   \n",
       "6243       ND.0063       ND.0063       ND.0063        1960s  1960.0   \n",
       "6265       ND.0038       ND.0038       ND.0038    1941-1942  1941.0   \n",
       "\n",
       "           Time   Country             Area  \\\n",
       "0         night       USA       California   \n",
       "1     afternoon       USA          Georgia   \n",
       "2       morning       USA           Hawaii   \n",
       "6     afternoon    BRAZIL       Pernambuco   \n",
       "8         night       USA          Florida   \n",
       "...         ...       ...              ...   \n",
       "6160      night  BARBADOS  Southwest coast   \n",
       "6241  afternoon      IRAQ           Basrah   \n",
       "6242  afternoon      IRAQ           Basrah   \n",
       "6243  afternoon      IRAQ           Basrah   \n",
       "6265  afternoon      IRAQ           Basrah   \n",
       "\n",
       "                                         Location        Type  \\\n",
       "0                     Oceanside, San Diego County     Boating   \n",
       "1                  St. Simon Island, Glynn County  Unprovoked   \n",
       "2                                    Habush, Oahu     Invalid   \n",
       "6                           Piedade Beach, Recife  Unprovoked   \n",
       "8                    Cocoa Beach, Brevard  County  Unprovoked   \n",
       "...                                           ...         ...   \n",
       "6160                                 Carlisle Bay  Unprovoked   \n",
       "6241                          Shatt-al-Arab River  Unprovoked   \n",
       "6242                         Shatt-al-Arab River   Unprovoked   \n",
       "6243       Shatt-al-Arab River near Abu al Khasib  Unprovoked   \n",
       "6265  Shatt-el Arab River near a small boat stand  Unprovoked   \n",
       "\n",
       "                                                   Name Sex   Age  \\\n",
       "0                                           Julie Wolfe   F  57.0   \n",
       "1                                       Adyson McNeely    F  11.0   \n",
       "2                                           John Denges   M  48.0   \n",
       "6                                Jose Ernesto da Silva    M  18.0   \n",
       "8                                             Cody High   M  15.0   \n",
       "...                                                 ...  ..   ...   \n",
       "6160  Samuel Jennings, a deserter from the British f...   M  19.0   \n",
       "6241                                               male   M  25.0   \n",
       "6242                                               male   M   6.0   \n",
       "6243                                               male   M  16.0   \n",
       "6265                                               male   M  13.0   \n",
       "\n",
       "                                               Activity  \\\n",
       "0                                              Paddling   \n",
       "1                                              Standing   \n",
       "2                                               Surfing   \n",
       "6                                              Swimming   \n",
       "8                                               Walking   \n",
       "...                                                 ...   \n",
       "6160                                           Swimming   \n",
       "6241  Fishing from a small boat & put his hand in th...   \n",
       "6242  Swimming naked near a date palm where many dat...   \n",
       "6243  Swimming in section of river used for washing ...   \n",
       "6265                                           Swimming   \n",
       "\n",
       "                                                 Injury         Species  \\\n",
       "0     No injury to occupant, outrigger canoe and pad...     White shark   \n",
       "1                            Minor injury to left thigh         unknown   \n",
       "2          Injury to left lower leg from surfboard skeg         unknown   \n",
       "6                                                 FATAL     Tiger shark   \n",
       "8                                 Lower left leg bitten  Bull shark, 6'   \n",
       "...                                                 ...             ...   \n",
       "6160  Hand and foot severely bitten, surgically ampu...         unknown   \n",
       "6241                                 Right hand severed         unknown   \n",
       "6242                                        Arm severed      Bull shark   \n",
       "6243         Right leg lacerated & surgically amputated      Bull shark   \n",
       "6265      FATAL, left leg bitten with severe blood loss      Bull shark   \n",
       "\n",
       "     Fatal (Y/N)          Investigator or Source                        pdf  \\\n",
       "0              N                R. Collier, GSAF       2018.06.25-Wolfe.pdf   \n",
       "1              N  K.McMurray, TrackingSharks.com     2018.06.18-McNeely.pdf   \n",
       "2              N  K.McMurray, TrackingSharks.com      2018.06.09-Denges.pdf   \n",
       "6              Y  Diario de Pernambuco, 6/4/2018   2018.06.03.a-daSilva.pdf   \n",
       "8              N  K.McMurray, TrackingSharks.com      2018.05.26.b-High.pdf   \n",
       "...          ...                             ...                        ...   \n",
       "6160           N        W.R.Cutter, Vol.1, p.252    1703.03.26-Jennings.pdf   \n",
       "6241           N    B.W. Coad & L.A.J. Al-Hassan       ND-0065-deadfish.pdf   \n",
       "6242           N    B.W. Coad & L.A.J. Al-Hassan  ND-0064-Shatt-al-Arab.pdf   \n",
       "6243           N    B.W. Coad & L.A.J. Al-Hassan  ND-0063-Shatt-al-Arab.pdf   \n",
       "6265           Y    B.W. Coad & L.A.J. Al-Hassan  ND-0038-Shatt-al-Arab.pdf   \n",
       "\n",
       "                                           href formula  \\\n",
       "0     http://sharkattackfile.net/spreadsheets/pdf_di...   \n",
       "1     http://sharkattackfile.net/spreadsheets/pdf_di...   \n",
       "2     http://sharkattackfile.net/spreadsheets/pdf_di...   \n",
       "6     http://sharkattackfile.net/spreadsheets/pdf_di...   \n",
       "8     http://sharkattackfile.net/spreadsheets/pdf_di...   \n",
       "...                                                 ...   \n",
       "6160  http://sharkattackfile.net/spreadsheets/pdf_di...   \n",
       "6241  http://sharkattackfile.net/spreadsheets/pdf_di...   \n",
       "6242  http://sharkattackfile.net/spreadsheets/pdf_di...   \n",
       "6243  http://sharkattackfile.net/spreadsheets/pdf_di...   \n",
       "6265  http://sharkattackfile.net/spreadsheets/pdf_di...   \n",
       "\n",
       "                                                   href  original order  \n",
       "0     http://sharkattackfile.net/spreadsheets/pdf_di...          6303.0  \n",
       "1     http://sharkattackfile.net/spreadsheets/pdf_di...          6302.0  \n",
       "2     http://sharkattackfile.net/spreadsheets/pdf_di...          6301.0  \n",
       "6     http://sharkattackfile.net/spreadsheets/pdf_di...          6297.0  \n",
       "8     http://sharkattackfile.net/spreadsheets/pdf_di...          6295.0  \n",
       "...                                                 ...             ...  \n",
       "6160  http://sharkattackfile.net/spreadsheets/pdf_di...           143.0  \n",
       "6241  http://sharkattackfile.net/spreadsheets/pdf_di...            62.0  \n",
       "6242  http://sharkattackfile.net/spreadsheets/pdf_di...            61.0  \n",
       "6243  http://sharkattackfile.net/spreadsheets/pdf_di...            60.0  \n",
       "6265  http://sharkattackfile.net/spreadsheets/pdf_di...            38.0  \n",
       "\n",
       "[2657 rows x 22 columns]"
      ]
     },
     "execution_count": 56,
     "metadata": {},
     "output_type": "execute_result"
    }
   ],
   "source": [
    "sharks = sharks.dropna() # dado que los nulos representan menos del 4% en las columnas donde aún existen nulos \n",
    "                         # y un 9% de todo el dataframe, tomamos la decisión de eliminar las filas que los contienen\n",
    "                         \n",
    "sharks"
   ]
  },
  {
   "cell_type": "markdown",
   "id": "8eb44d35",
   "metadata": {},
   "source": [
    "## Limpieza por columnas: 'Type':\n",
    "\n",
    "Unificamos boat y boating. "
   ]
  },
  {
   "cell_type": "code",
   "execution_count": 57,
   "id": "5076377f",
   "metadata": {},
   "outputs": [
    {
     "data": {
      "text/plain": [
       "array(['Boating', 'Unprovoked', 'Invalid', 'Provoked', 'Questionable',\n",
       "       'Boat', 'Sea Disaster'], dtype=object)"
      ]
     },
     "execution_count": 57,
     "metadata": {},
     "output_type": "execute_result"
    }
   ],
   "source": [
    "sharks['Type'].unique()"
   ]
  },
  {
   "cell_type": "code",
   "execution_count": 58,
   "id": "6a547748",
   "metadata": {},
   "outputs": [],
   "source": [
    "sharks.Type = sharks.Type.replace({'Boat': 'Boating'}) # Para reemplazar cuando se trata de una coincidencia exacta "
   ]
  },
  {
   "cell_type": "markdown",
   "id": "7d5a4f16",
   "metadata": {},
   "source": [
    "## Limpieza por columnas: 'Name':"
   ]
  },
  {
   "cell_type": "code",
   "execution_count": 59,
   "id": "3bd09966",
   "metadata": {},
   "outputs": [
    {
     "data": {
      "text/plain": [
       "array(['Julie Wolfe', 'Adyson\\xa0McNeely ', 'John Denges', ...,\n",
       "       'Charles Anderson', 'William May',\n",
       "       'Samuel Jennings, a deserter from the British frigate Milford'],\n",
       "      dtype=object)"
      ]
     },
     "execution_count": 59,
     "metadata": {},
     "output_type": "execute_result"
    }
   ],
   "source": [
    "sharks['Name'].unique()"
   ]
  },
  {
   "cell_type": "code",
   "execution_count": 60,
   "id": "e85c7186",
   "metadata": {},
   "outputs": [],
   "source": [
    "sharks['Name'].replace({'male': 'unknown',\n",
    "                       'Male': 'unknown',\n",
    "                       'female': 'unknown' ,\n",
    "                       'Female': 'unknown',\n",
    "                       }, inplace = True)\n",
    "\n"
   ]
  },
  {
   "cell_type": "code",
   "execution_count": 61,
   "id": "00f3c959",
   "metadata": {},
   "outputs": [],
   "source": [
    "sharks.reset_index(drop=True, inplace=True)\n"
   ]
  },
  {
   "cell_type": "markdown",
   "id": "e3c2f3b9",
   "metadata": {},
   "source": [
    "## Limpieza por columnas: 'Country':"
   ]
  },
  {
   "cell_type": "code",
   "execution_count": 62,
   "id": "b6f192d4",
   "metadata": {},
   "outputs": [
    {
     "data": {
      "text/plain": [
       "array(['USA', 'BRAZIL', 'AUSTRALIA', 'ENGLAND', 'SOUTH AFRICA',\n",
       "       'COSTA RICA', 'MALDIVES', 'BAHAMAS', 'CUBA', 'MAURITIUS',\n",
       "       'NEW ZEALAND', 'JAPAN', 'SPAIN',\n",
       "       'ST HELENA, British overseas territory', 'UNITED ARAB EMIRATES',\n",
       "       'MEXICO', 'REUNION', 'INDONESIA', 'NEW CALEDONIA', 'EGYPT',\n",
       "       'FRENCH POLYNESIA', 'DOMINICAN REPUBLIC', 'ECUADOR', 'MOZAMBIQUE',\n",
       "       'THAILAND', 'FRANCE', 'ISRAEL', 'JAMAICA', 'ITALY', 'ANTIGUA',\n",
       "       'PAPUA NEW GUINEA', 'RUSSIA', 'SEYCHELLES', 'COLUMBIA',\n",
       "       'TURKS & CAICOS', 'FIJI', 'SOUTH KOREA', 'VIETNAM', 'MADAGASCAR',\n",
       "       'GUAM', 'UNITED ARAB EMIRATES (UAE)', 'PANAMA', 'SCOTLAND',\n",
       "       'UNITED KINGDOM', 'TAIWAN', 'PHILIPPINES', 'CROATIA',\n",
       "       'SOLOMON ISLANDS', 'TONGA', 'ST. MAARTIN', 'GRAND CAYMAN',\n",
       "       'VANUATU', 'VENEZUELA', 'MICRONESIA', 'OKINAWA',\n",
       "       'MARSHALL ISLANDS', 'EGYPT / ISRAEL', 'HONG KONG', 'CHILE',\n",
       "       'GRENADA', 'IRAQ', 'BERMUDA', 'SENEGAL', 'TURKEY', 'NEW BRITAIN',\n",
       "       'PACIFIC OCEAN', 'PALAU', 'FEDERATED STATES OF MICRONESIA',\n",
       "       'GREECE', 'BRITISH WEST INDIES', 'PERSIAN GULF',\n",
       "       'NORTH PACIFIC OCEAN', 'NICARAGUA', 'AMERICAN SAMOA', 'KENYA',\n",
       "       'THE BALKANS', 'ARGENTINA', 'SUDAN', 'EL SALVADOR', 'SAUDI ARABIA',\n",
       "       'SOUTH ATLANTIC OCEAN', 'IRAN', 'GUYANA', 'HAITI', 'MONTENEGRO',\n",
       "       'YEMEN', 'CANADA', 'INDIA', 'Fiji', 'GUINEA', 'SRI LANKA',\n",
       "       'BARBADOS'], dtype=object)"
      ]
     },
     "execution_count": 62,
     "metadata": {},
     "output_type": "execute_result"
    }
   ],
   "source": [
    "sharks['Country'] = sharks['Country'].str.rstrip()\n",
    "sharks.Country.unique()"
   ]
  },
  {
   "cell_type": "code",
   "execution_count": 63,
   "id": "78cb12e7",
   "metadata": {},
   "outputs": [
    {
     "data": {
      "text/plain": [
       "array(['USA', 'BRAZIL', 'AUSTRALIA', 'ENGLAND', 'SOUTH AFRICA',\n",
       "       'COSTA RICA', 'MALDIVES', 'BAHAMAS', 'CUBA', 'MAURITIUS',\n",
       "       'NEW ZEALAND', 'JAPAN', 'SPAIN', 'ST HELENA',\n",
       "       'UNITED ARAB EMIRATES', 'MEXICO', 'REUNION', 'INDONESIA',\n",
       "       'NEW CALEDONIA', 'EGYPT', 'FRENCH POLYNESIA', 'DOMINICAN REPUBLIC',\n",
       "       'ECUADOR', 'MOZAMBIQUE', 'THAILAND', 'FRANCE', 'ISRAEL', 'JAMAICA',\n",
       "       'ITALY', 'ANTIGUA', 'PAPUA NEW GUINEA', 'RUSSIA', 'SEYCHELLES',\n",
       "       'COLUMBIA', 'TURKS & CAICOS', 'FIJI', 'SOUTH KOREA', 'VIETNAM',\n",
       "       'MADAGASCAR', 'GUAM', 'PANAMA', 'SCOTLAND', 'UNITED KINGDOM',\n",
       "       'TAIWAN', 'PHILIPPINES', 'CROATIA', 'SOLOMON ISLANDS', 'TONGA',\n",
       "       'ST. MAARTIN', 'GRAND CAYMAN', 'VANUATU', 'VENEZUELA',\n",
       "       'MICRONESIA', 'OKINAWA', 'MARSHALL ISLANDS', 'EGYPT / ISRAEL',\n",
       "       'HONG KONG', 'CHILE', 'GRENADA', 'IRAQ', 'BERMUDA', 'SENEGAL',\n",
       "       'TURKEY', 'NEW BRITAIN', 'PACIFIC OCEAN', 'PALAU', 'GREECE',\n",
       "       'BRITISH WEST INDIES', 'PERSIAN GULF', 'NORTH PACIFIC OCEAN',\n",
       "       'NICARAGUA', 'AMERICAN SAMOA', 'KENYA', 'THE BALKANS', 'ARGENTINA',\n",
       "       'SUDAN', 'EL SALVADOR', 'SAUDI ARABIA', 'SOUTH ATLANTIC OCEAN',\n",
       "       'IRAN', 'GUYANA', 'HAITI', 'MONTENEGRO', 'YEMEN', 'CANADA',\n",
       "       'INDIA', 'GUINEA', 'SRI LANKA', 'BARBADOS'], dtype=object)"
      ]
     },
     "execution_count": 63,
     "metadata": {},
     "output_type": "execute_result"
    }
   ],
   "source": [
    "sharks.Country = sharks.Country.str.upper()\n",
    "\n",
    "sharks.Country = sharks.Country.replace({'UNITED ARAB EMIRATES (UAE)': 'UNITED ARAB EMIRATES', \n",
    "                                        'ST HELENA, BRITISH OVERSEAS TERRITORY': 'ST HELENA',\n",
    "                                        'FEDERATED STATES OF MICRONESIA': 'MICRONESIA'})\n",
    "\n",
    "sharks.Country.unique()"
   ]
  },
  {
   "cell_type": "markdown",
   "id": "1e3c0c00",
   "metadata": {},
   "source": [
    "## Creación de nuevas columnas: 'Continent' y 'Month'"
   ]
  },
  {
   "cell_type": "code",
   "execution_count": 64,
   "id": "65c3539b",
   "metadata": {},
   "outputs": [
    {
     "data": {
      "text/plain": [
       "array(['NORTH AMERICA', 'SOUTH AMERICA', 'OCEANIA', 'EUROPE', 'AFRICA',\n",
       "       'ASIA', 'UNKNOWN'], dtype=object)"
      ]
     },
     "execution_count": 64,
     "metadata": {},
     "output_type": "execute_result"
    }
   ],
   "source": [
    "# Ahora vamos a crear una nueva columna que categorice los paises por continentes\n",
    "\n",
    "continent = {'USA': 'NORTH AMERICA',\n",
    "     'BRAZIL': 'SOUTH AMERICA',\n",
    "     'AUSTRALIA': 'OCEANIA',\n",
    "     'ENGLAND': 'EUROPE',\n",
    "     'SOUTH AFRICA': 'AFRICA',\n",
    "     'COSTA RICA': 'NORTH AMERICA',\n",
    "     'MALDIVES': 'ASIA',\n",
    "     'BAHAMAS': 'NORTH AMERICA',\n",
    "     'CUBA': 'NORTH AMERICA',\n",
    "     'MAURITIUS': 'AFRICA',\n",
    "     'NEW ZEALAND': 'OCEANIA',\n",
    "     'JAPAN': 'ASIA',\n",
    "     'SPAIN': 'EUROPE',\n",
    "     'ST HELENA': 'AFRICA',\n",
    "     'UNITED ARAB EMIRATES': 'ASIA',\n",
    "     'MEXICO': 'NORTH AMERICA',\n",
    "     'REUNION': 'AFRICA',\n",
    "     'INDONESIA': 'ASIA',\n",
    "     'NEW CALEDONIA': 'OCEANIA',\n",
    "     'EGYPT': 'AFRICA',\n",
    "     'FRENCH POLYNESIA': 'OCEANIA',\n",
    "     'DOMINICAN REPUBLIC': 'NORTH AMERICA',\n",
    "     'ECUADOR': 'SOUTH AMERICA',\n",
    "     'MOZAMBIQUE': 'AFRICA',\n",
    "     'THAILAND': 'ASIA',\n",
    "     'FRANCE': 'EUROPE',\n",
    "     'ISRAEL': 'ASIA',\n",
    "     'JAMAICA': 'NORTH AMERICA',\n",
    "     'ITALY': 'EUROPE',\n",
    "     'ANTIGUA': 'NORTH AMERICA',\n",
    "     'PAPUA NEW GUINEA': 'OCEANIA',\n",
    "     'RUSSIA': 'EUROPE',\n",
    "     'SEYCHELLES': 'AFRICA',\n",
    "     'COLUMBIA': 'SOUTH AMERICA',\n",
    "     'TURKS & CAICOS': 'NORTH AMERICA',\n",
    "     'FIJI': 'OCEANIA',\n",
    "     'SOUTH KOREA': 'ASIA',\n",
    "     'VIETNAM': 'ASIA',\n",
    "     'MADAGASCAR': 'AFRICA',\n",
    "     'GUAM': 'ASIA',\n",
    "     'PANAMA': 'NORTH AMERICA',\n",
    "     'SCOTLAND': 'EUROPE',\n",
    "     'UNITED KINGDOM': 'EUROPE',\n",
    "     'TAIWAN': 'ASIA',\n",
    "     'PHILIPPINES': 'ASIA',\n",
    "     'CROATIA': 'EUROPE',\n",
    "     'SOLOMON ISLANDS': 'OCEANIA',\n",
    "     'TONGA': 'OCEANIA',\n",
    "     'ST. MAARTIN': 'NORTH AMERICA',\n",
    "     'GRAND CAYMAN': 'NORTH AMERICA',\n",
    "     'VANUATU': 'OCEANIA',\n",
    "     'VENEZUELA': 'SOUTH AMERICA',\n",
    "     'MICRONESIA': 'OCEANIA',\n",
    "     'OKINAWA': 'ASIA',\n",
    "     'MARSHALL ISLANDS': 'OCEANIA',\n",
    "     'EGYPT / ISRAEL': 'AFRICA',\n",
    "     'HONG KONG': 'ASIA',\n",
    "     'CHILE': 'SOUTH AMERICA',\n",
    "     'GRENADA': 'SOUTH AMERICA',\n",
    "     'IRAQ': 'ASIA',\n",
    "     'BERMUDA': 'NORTH AMERICA',\n",
    "     'SENEGAL': 'AFRICA',\n",
    "     'TURKEY': 'EUROPE',\n",
    "     'NEW BRITAIN': 'OCEANIA',\n",
    "     'PACIFIC OCEAN': 'UNKNOWN',\n",
    "     'PALAU': 'OCEANIA',\n",
    "     'GREECE': 'EUROPE',\n",
    "     'BRITISH WEST INDIES': 'NORTH AMERICA',\n",
    "     'PERSIAN GULF': 'ASIA',\n",
    "     'NORTH PACIFIC OCEAN': 'UNKNOWN',\n",
    "     'NICARAGUA': 'NORTH AMERICA',\n",
    "     'AMERICAN SAMOA': 'OCEANIA',\n",
    "     'KENYA': 'AFRICA',\n",
    "     'THE BALKANS': 'EUROPE',\n",
    "     'ARGENTINA': 'SOUTH AMERICA',\n",
    "     'SUDAN': 'AFRICA',\n",
    "     'EL SALVADOR': 'NORTH AMERICA',\n",
    "     'SAUDI ARABIA': 'ASIA',\n",
    "     'SOUTH ATLANTIC OCEAN': 'UNKNOWN',\n",
    "     'IRAN': 'ASIA',\n",
    "     'GUYANA': 'SOUTH AMERICA',\n",
    "     'HAITI': 'NORTH AMERICA',\n",
    "     'MONTENEGRO': 'EUROPE',\n",
    "     'YEMEN': 'ASIA',\n",
    "     'CANADA': 'NORTH AMERICA',\n",
    "     'INDIA': 'ASIA',\n",
    "     'GUINEA': 'AFRICA',\n",
    "     'SRI LANKA': 'ASIA',\n",
    "     'BARBADOS': 'SOUTH AMERICA'}\n",
    "\n",
    "sharks['Continent'] = sharks['Country'].map(continent)\n",
    "sharks['Continent'].unique()"
   ]
  },
  {
   "cell_type": "code",
   "execution_count": 65,
   "id": "0f055ee6",
   "metadata": {},
   "outputs": [],
   "source": [
    "# Reordenamos las columnas de nuevo\n",
    "\n",
    "nuevo_orden = ['Case Number','Case Number.1','Case Number.2', 'Date', 'Year', 'Time', 'Continent', 'Country', 'Area', 'Location', 'Type','Name', 'Sex', 'Age','Activity','Injury','Species', 'Fatal (Y/N)', 'Investigator or Source', 'pdf', 'href formula', 'href','original order']\n",
    "                                         \n",
    "sharks = sharks.reindex(columns=nuevo_orden)\n"
   ]
  },
  {
   "cell_type": "code",
   "execution_count": 66,
   "id": "7859a17f",
   "metadata": {},
   "outputs": [
    {
     "data": {
      "text/plain": [
       "(2657, 23)"
      ]
     },
     "execution_count": 66,
     "metadata": {},
     "output_type": "execute_result"
    }
   ],
   "source": [
    "# Creamos nueva columna de los meses: extraemos el segundo grupo de 2 digítos de la columna Case Number\n",
    "\n",
    "sharks['Month'] = sharks['Case Number'].str.extract(r'\\d{4}.(\\d{2})')\n",
    "\n",
    "# Se crean valores nulos: los cambiamos por Unknown\n",
    "\n",
    "sharks['Month'].fillna('Unknown', inplace = True)\n",
    "\n",
    "\n",
    "# Se cambian por Unknown las filas donde no conocemos el mes y aparece 00\n",
    "\n",
    "sharks['Month'] = sharks['Month'].str.replace('00', 'Unknown')\n",
    "\n",
    "# Reordenamos de nuevo las columnas\n",
    "\n",
    "nuevo_orden = ['Case Number','Case Number.1','Case Number.2', 'Date', 'Month', 'Year', 'Time', 'Continent', 'Country', 'Area', 'Location', 'Type','Name', 'Sex', 'Age','Activity','Injury','Species', 'Fatal (Y/N)', 'Investigator or Source', 'pdf', 'href formula', 'href','original order']\n",
    "                                         \n",
    "sharks = sharks.reindex(columns=nuevo_orden)\n",
    "sharks = sharks.drop('Date', axis = 1)\n",
    "sharks.shape    "
   ]
  },
  {
   "cell_type": "markdown",
   "id": "90b9380f",
   "metadata": {},
   "source": [
    "## Análisis de los datos: \n",
    "\n",
    "Analizaremos los datos atendiendo a las columnas **Month, Year, Time, Continent, Sex, Age y Fatal (Y/N).**"
   ]
  },
  {
   "cell_type": "code",
   "execution_count": 67,
   "id": "55699bea",
   "metadata": {},
   "outputs": [
    {
     "data": {
      "text/plain": [
       "N          2103\n",
       "Y           444\n",
       "UNKNOWN     110\n",
       "Name: Fatal (Y/N), dtype: int64"
      ]
     },
     "execution_count": 67,
     "metadata": {},
     "output_type": "execute_result"
    }
   ],
   "source": [
    "analisis = sharks[['Month', 'Year', 'Time', 'Continent', 'Sex', 'Age', 'Fatal (Y/N)']]\n",
    "analisis['Fatal (Y/N)'].value_counts()"
   ]
  },
  {
   "cell_type": "code",
   "execution_count": 68,
   "id": "59ef6148",
   "metadata": {},
   "outputs": [
    {
     "data": {
      "text/plain": [
       "07         283\n",
       "08         277\n",
       "09         272\n",
       "06         240\n",
       "10         227\n",
       "04         218\n",
       "01         213\n",
       "12         189\n",
       "05         184\n",
       "03         180\n",
       "02         175\n",
       "11         169\n",
       "Unknown     30\n",
       "Name: Month, dtype: int64"
      ]
     },
     "execution_count": 68,
     "metadata": {},
     "output_type": "execute_result"
    }
   ],
   "source": [
    "analisis.Month.value_counts()"
   ]
  },
  {
   "cell_type": "code",
   "execution_count": 69,
   "id": "3b333ba0",
   "metadata": {},
   "outputs": [
    {
     "data": {
      "text/plain": [
       "afternoon    1265\n",
       "morning       859\n",
       "night         519\n",
       "evening        14\n",
       "Name: Time, dtype: int64"
      ]
     },
     "execution_count": 69,
     "metadata": {},
     "output_type": "execute_result"
    }
   ],
   "source": [
    "analisis.Time.value_counts()"
   ]
  },
  {
   "cell_type": "code",
   "execution_count": 70,
   "id": "f66f7162",
   "metadata": {},
   "outputs": [
    {
     "data": {
      "text/plain": [
       "NORTH AMERICA    1400\n",
       "OCEANIA           682\n",
       "AFRICA            412\n",
       "ASIA               64\n",
       "SOUTH AMERICA      52\n",
       "EUROPE             40\n",
       "UNKNOWN             7\n",
       "Name: Continent, dtype: int64"
      ]
     },
     "execution_count": 70,
     "metadata": {},
     "output_type": "execute_result"
    }
   ],
   "source": [
    "analisis.Continent.value_counts()"
   ]
  },
  {
   "cell_type": "code",
   "execution_count": 71,
   "id": "07dfb300",
   "metadata": {},
   "outputs": [
    {
     "data": {
      "text/plain": [
       "M    2290\n",
       "F     367\n",
       "Name: Sex, dtype: int64"
      ]
     },
     "execution_count": 71,
     "metadata": {},
     "output_type": "execute_result"
    }
   ],
   "source": [
    "analisis.loc[1065, 'Sex'] = 'M'\n",
    "analisis.Sex.value_counts()"
   ]
  },
  {
   "cell_type": "code",
   "execution_count": 72,
   "id": "999fd05a",
   "metadata": {},
   "outputs": [
    {
     "data": {
      "text/html": [
       "<div>\n",
       "<style scoped>\n",
       "    .dataframe tbody tr th:only-of-type {\n",
       "        vertical-align: middle;\n",
       "    }\n",
       "\n",
       "    .dataframe tbody tr th {\n",
       "        vertical-align: top;\n",
       "    }\n",
       "\n",
       "    .dataframe thead th {\n",
       "        text-align: right;\n",
       "    }\n",
       "</style>\n",
       "<table border=\"1\" class=\"dataframe\">\n",
       "  <thead>\n",
       "    <tr style=\"text-align: right;\">\n",
       "      <th></th>\n",
       "      <th>count</th>\n",
       "      <th>mean</th>\n",
       "      <th>std</th>\n",
       "      <th>min</th>\n",
       "      <th>25%</th>\n",
       "      <th>50%</th>\n",
       "      <th>75%</th>\n",
       "      <th>max</th>\n",
       "    </tr>\n",
       "  </thead>\n",
       "  <tbody>\n",
       "    <tr>\n",
       "      <th>Year</th>\n",
       "      <td>2657.0</td>\n",
       "      <td>1986.818592</td>\n",
       "      <td>32.452111</td>\n",
       "      <td>1703.0</td>\n",
       "      <td>1968.0</td>\n",
       "      <td>2000.0</td>\n",
       "      <td>2010.0</td>\n",
       "      <td>2018.0</td>\n",
       "    </tr>\n",
       "    <tr>\n",
       "      <th>Age</th>\n",
       "      <td>2657.0</td>\n",
       "      <td>26.318028</td>\n",
       "      <td>13.212898</td>\n",
       "      <td>3.0</td>\n",
       "      <td>19.0</td>\n",
       "      <td>21.0</td>\n",
       "      <td>33.0</td>\n",
       "      <td>86.0</td>\n",
       "    </tr>\n",
       "  </tbody>\n",
       "</table>\n",
       "</div>"
      ],
      "text/plain": [
       "       count         mean        std     min     25%     50%     75%     max\n",
       "Year  2657.0  1986.818592  32.452111  1703.0  1968.0  2000.0  2010.0  2018.0\n",
       "Age   2657.0    26.318028  13.212898     3.0    19.0    21.0    33.0    86.0"
      ]
     },
     "execution_count": 72,
     "metadata": {},
     "output_type": "execute_result"
    }
   ],
   "source": [
    "analisis.describe().T"
   ]
  },
  {
   "cell_type": "code",
   "execution_count": 73,
   "id": "700e4738",
   "metadata": {},
   "outputs": [
    {
     "data": {
      "text/html": [
       "<div>\n",
       "<style scoped>\n",
       "    .dataframe tbody tr th:only-of-type {\n",
       "        vertical-align: middle;\n",
       "    }\n",
       "\n",
       "    .dataframe tbody tr th {\n",
       "        vertical-align: top;\n",
       "    }\n",
       "\n",
       "    .dataframe thead th {\n",
       "        text-align: right;\n",
       "    }\n",
       "</style>\n",
       "<table border=\"1\" class=\"dataframe\">\n",
       "  <thead>\n",
       "    <tr style=\"text-align: right;\">\n",
       "      <th></th>\n",
       "      <th>Month</th>\n",
       "      <th>Year</th>\n",
       "      <th>Time</th>\n",
       "      <th>Continent</th>\n",
       "      <th>Sex</th>\n",
       "      <th>Age</th>\n",
       "      <th>Fatal (Y/N)</th>\n",
       "    </tr>\n",
       "  </thead>\n",
       "  <tbody>\n",
       "    <tr>\n",
       "      <th>0</th>\n",
       "      <td>07</td>\n",
       "      <td>2015.0</td>\n",
       "      <td>afternoon</td>\n",
       "      <td>NORTH AMERICA</td>\n",
       "      <td>M</td>\n",
       "      <td>19.0</td>\n",
       "      <td>N</td>\n",
       "    </tr>\n",
       "  </tbody>\n",
       "</table>\n",
       "</div>"
      ],
      "text/plain": [
       "  Month    Year       Time      Continent Sex   Age Fatal (Y/N)\n",
       "0    07  2015.0  afternoon  NORTH AMERICA   M  19.0           N"
      ]
     },
     "execution_count": 73,
     "metadata": {},
     "output_type": "execute_result"
    }
   ],
   "source": [
    "moda = analisis.mode()\n",
    "moda"
   ]
  },
  {
   "cell_type": "code",
   "execution_count": 108,
   "id": "8e7ea3bb",
   "metadata": {},
   "outputs": [
    {
     "data": {
      "text/plain": [
       "Text(0.5, 1.0, 'Ataques de tiburones por franja horaria')"
      ]
     },
     "execution_count": 108,
     "metadata": {},
     "output_type": "execute_result"
    },
    {
     "data": {
      "image/png": "[encoded data removed]",
      "text/plain": [
       "<Figure size 800x600 with 1 Axes>"
      ]
     },
     "metadata": {},
     "output_type": "display_data"
    }
   ],
   "source": [
    "plt.figure(figsize=[8,6])\n",
    "orden = ['morning', 'afternoon', 'evening', 'night']\n",
    "graf1 = sns.countplot(x='Time', data=analisis, order=orden, palette='Pastel1')\n",
    "plt.xlabel('Franja horaria')\n",
    "plt.ylabel ('Ataques')\n",
    "plt.title('Ataques de tiburones por franja horaria')"
   ]
  },
  {
   "cell_type": "code",
   "execution_count": 107,
   "id": "a4b3d2d8",
   "metadata": {},
   "outputs": [
    {
     "data": {
      "text/plain": [
       "<matplotlib.legend.Legend at 0x28b3d1ed0>"
      ]
     },
     "execution_count": 107,
     "metadata": {},
     "output_type": "execute_result"
    },
    {
     "data": {
      "image/png": "[encoded data removed]",
      "text/plain": [
       "<Figure size 640x480 with 1 Axes>"
      ]
     },
     "metadata": {},
     "output_type": "display_data"
    }
   ],
   "source": [
    "graf2 = sns.countplot(x='Time', hue='Sex', data=analisis, order=orden, palette='Pastel2')\n",
    "plt.xlabel('Franja horaria')\n",
    "plt.ylabel('Ataques')\n",
    "plt.title('Ataques de tiburones por franja horaria y sexo')\n",
    "plt.legend(title='Sexo')  \n"
   ]
  },
  {
   "cell_type": "code",
   "execution_count": 100,
   "id": "2ee8ce97",
   "metadata": {},
   "outputs": [
    {
     "data": {
      "text/plain": [
       "<matplotlib.legend.Legend at 0x28a793350>"
      ]
     },
     "execution_count": 100,
     "metadata": {},
     "output_type": "execute_result"
    },
    {
     "data": {
      "image/png": "[encoded data removed]",
      "text/plain": [
       "<Figure size 1000x600 with 1 Axes>"
      ]
     },
     "metadata": {},
     "output_type": "display_data"
    }
   ],
   "source": [
    "ataques_sex_cont = analisis.groupby(['Continent', 'Sex']).size().unstack()\n",
    "\n",
    "sns.set(style='whitegrid')\n",
    "color = sns.color_palette(\"Dark2\")\n",
    "\n",
    "plt.figure(figsize=(10, 6))  \n",
    "sns.lineplot(data=ataques_sex_cont, markers=True, palette = color)\n",
    "\n",
    "plt.xlabel('Sexo y Continente')\n",
    "plt.ylabel('Número de Ataques')\n",
    "plt.title('Ataques de Tiburones por Sexo y Continente')\n",
    "\n",
    "plt.legend(title='Continente')\n",
    "\n"
   ]
  },
  {
   "cell_type": "markdown",
   "id": "59e2c886",
   "metadata": {},
   "source": [
    "## Conclusiones:\n",
    "+ El mes en el que se han producido más ataques de tiburones entre 1703 y 2018 ha sido el mes de **julio** y el mes en el que menos, **noviembre**.\n",
    "+ El año en que más ataques se produjeron fue en **2015**.\n",
    "+ La franja horaria en la que más ataques se suelen producir es entre **las 12h y las 17h** y en la que menos, entre **las 17h y las 22h**.\n",
    "+ Las personas más frecuentemente atacadas fueron **hombres** y tenían **19** años, aunque la media de edad fueron los **26**.\n",
    "+ De los ataques analizados solo alrededor de un **20%** fueron ataques **mortales.**\n",
    "+ El continente en que se produjeron más ataques fue en **América del Norte** y en el que menos, **Europa**.\n",
    "+ Por último, se ha visualizado que todos estos datos se mantienen sin importar el sexo de la persona atacada."
   ]
  },
  {
   "cell_type": "code",
   "execution_count": null,
   "id": "c98a6fe5",
   "metadata": {},
   "outputs": [],
   "source": []
  }
 ],
 "metadata": {
  "kernelspec": {
   "display_name": "Python 3 (ipykernel)",
   "language": "python",
   "name": "python3"
  },
  "language_info": {
   "codemirror_mode": {
    "name": "ipython",
    "version": 3
   },
   "file_extension": ".py",
   "mimetype": "text/x-python",
   "name": "python",
   "nbconvert_exporter": "python",
   "pygments_lexer": "ipython3",
   "version": "3.11.4"
  }
 },
 "nbformat": 4,
 "nbformat_minor": 5
}
